{
 "cells": [
  {
   "cell_type": "code",
   "execution_count": null,
   "id": "73338f68-6ec2-4fab-95be-cf0f42fb5d26",
   "metadata": {
    "id": "73338f68-6ec2-4fab-95be-cf0f42fb5d26"
   },
   "outputs": [],
   "source": [
    "import numpy as np\n",
    "\n",
    "import matplotlib.pyplot as plt\n",
    "import seaborn as sns\n",
    "\n",
    "\n",
    "from sklearn.model_selection import train_test_split, cross_val_score, GridSearchCV\n",
    "from sklearn.preprocessing import StandardScaler, MinMaxScaler, LabelEncoder\n",
    "\n",
    "\n",
    "from sklearn.ensemble import RandomForestClassifier\n",
    "from xgboost import XGBClassifier\n",
    "\n",
    "\n",
    "from sklearn.metrics import accuracy_score, precision_score, recall_score, f1_score\n",
    "\n",
    "from sklearn.preprocessing import StandardScaler\n",
    "from sklearn.linear_model import LogisticRegression\n",
    "from sklearn.metrics import classification_report, confusion_matrix, accuracy_score\n",
    "\n",
    "from imblearn.over_sampling import SMOTE\n",
    "from imblearn.pipeline import Pipeline\n",
    "from sklearn.ensemble import RandomForestClassifier\n",
    "from sklearn.model_selection import GridSearchCV, StratifiedKFold\n",
    "from sklearn.metrics import f1_score, make_scorer\n",
    "\n",
    "from sklearn.metrics import precision_score, recall_score\n",
    "\n",
    "import matplotlib.pyplot as plt\n",
    "from sklearn.metrics import roc_curve, auc\n",
    "\n",
    "from xgboost import XGBClassifier\n",
    "from imblearn.pipeline import Pipeline as ImbPipeline\n",
    "from sklearn.metrics import roc_auc_score, average_precision_score, f1_score, make_scorer\n",
    "\n",
    "from sklearn.metrics import precision_recall_curve"
   ]
  },
  {
   "cell_type": "code",
   "execution_count": null,
   "id": "0a7aed57-ac26-4d30-a6e8-884280f241e3",
   "metadata": {
    "colab": {
     "base_uri": "https://localhost:8080/"
    },
    "id": "0a7aed57-ac26-4d30-a6e8-884280f241e3",
    "outputId": "7ca38528-e488-4ce4-fca7-e4323a706a94"
   },
   "outputs": [],
   "source": [
    "from google.colab import drive\n",
    "drive.mount('/content/drive',force_remount=True)\n",
    "source_folder='/content/drive/My Drive/B2C_df.csv'\n"
   ]
  },
  {
   "cell_type": "code",
   "execution_count": null,
   "id": "iVdmVsng4xbQ",
   "metadata": {
    "id": "iVdmVsng4xbQ"
   },
   "outputs": [],
   "source": [
    "import pandas as pd\n",
    "df = pd.DataFrame(pd.read_csv(source_folder, index_col = None))\n"
   ]
  },
  {
   "cell_type": "code",
   "execution_count": null,
   "id": "5429be6e-f6f5-4e0f-9359-9323ca03481f",
   "metadata": {
    "colab": {
     "base_uri": "https://localhost:8080/",
     "height": 423
    },
    "id": "5429be6e-f6f5-4e0f-9359-9323ca03481f",
    "outputId": "4cd727f2-5656-46a8-89ad-39f8cd216de0"
   },
   "outputs": [],
   "source": [
    "df"
   ]
  },
  {
   "cell_type": "code",
   "execution_count": null,
   "id": "u4mAjekPKS5v",
   "metadata": {
    "colab": {
     "base_uri": "https://localhost:8080/"
    },
    "id": "u4mAjekPKS5v",
    "outputId": "ec91099a-3285-4fb5-eae0-e4d0a03ce792"
   },
   "outputs": [],
   "source": [
    "from google.colab import drive\n",
    "drive.mount('/content/drive',force_remount=True)\n",
    "source_folder2='/content/drive/My Drive/B2B_df.csv'\n",
    "import pandas as pd\n",
    "df2 = pd.DataFrame(pd.read_csv(source_folder2, index_col = None))\n"
   ]
  },
  {
   "cell_type": "code",
   "execution_count": null,
   "id": "Bq83NCnJ1uaD",
   "metadata": {
    "id": "Bq83NCnJ1uaD"
   },
   "outputs": [],
   "source": [
    "# Concatenate them one after the other\n",
    "combined_df = pd.concat([df, df2], axis=0)\n",
    "\n",
    "# Reset the index of the combined DataFrame, if necessary\n",
    "combined_df.reset_index(drop=True, inplace=True)"
   ]
  },
  {
   "cell_type": "code",
   "execution_count": null,
   "id": "YU7cvm8t2VG9",
   "metadata": {
    "colab": {
     "base_uri": "https://localhost:8080/",
     "height": 423
    },
    "id": "YU7cvm8t2VG9",
    "outputId": "dc4b84aa-3d21-4375-f51a-c67792051b2c"
   },
   "outputs": [],
   "source": [
    "df=combined_df.copy()\n",
    "df"
   ]
  },
  {
   "cell_type": "code",
   "execution_count": null,
   "id": "a507e330-47d8-40a2-8d5d-e889d3c90b24",
   "metadata": {
    "colab": {
     "base_uri": "https://localhost:8080/"
    },
    "id": "a507e330-47d8-40a2-8d5d-e889d3c90b24",
    "outputId": "48199237-c8c0-4332-eb63-50814f6e1eb6"
   },
   "outputs": [],
   "source": [
    "df.info()"
   ]
  },
  {
   "cell_type": "code",
   "execution_count": null,
   "id": "GLd4z77xOWEG",
   "metadata": {
    "id": "GLd4z77xOWEG"
   },
   "outputs": [],
   "source": [
    "\n",
    "df[['Frequency', 'Amount']] = df[['Frequency', 'Amount']].astype('float64')\n"
   ]
  },
  {
   "cell_type": "code",
   "execution_count": null,
   "id": "JdL4mh3QQUwx",
   "metadata": {
    "colab": {
     "base_uri": "https://localhost:8080/",
     "height": 602
    },
    "id": "JdL4mh3QQUwx",
    "outputId": "983d3e7f-f186-4c73-9842-34f4d3864eac"
   },
   "outputs": [],
   "source": [
    "\n",
    "numerical_features = df.select_dtypes(include=['float64'])\n",
    "\n",
    "\n",
    "numerical_features.boxplot(figsize=(10, 6))\n",
    "plt.title('Boxplot of Numerical Features')\n",
    "plt.ylabel('Value')\n",
    "plt.xticks(rotation=90)\n",
    "plt.show()\n"
   ]
  },
  {
   "cell_type": "code",
   "execution_count": null,
   "id": "5Z6rR8yIQhzB",
   "metadata": {
    "colab": {
     "base_uri": "https://localhost:8080/",
     "height": 1000
    },
    "id": "5Z6rR8yIQhzB",
    "outputId": "fc971429-b62a-49ec-a486-cc9f358bb267"
   },
   "outputs": [],
   "source": [
    "numeric_df = df.select_dtypes(include=['float64', 'int64'])\n",
    "\n",
    "numeric_df = pd.DataFrame(numeric_df, columns=numeric_df.columns)\n",
    "\n",
    "\n",
    "plt.figure(figsize=(12, 10))\n",
    "sns.heatmap(df.corr(), annot=True, cmap='coolwarm')\n",
    "plt.title('Correlation Matrix')\n",
    "plt.show()\n"
   ]
  },
  {
   "cell_type": "code",
   "execution_count": null,
   "id": "YzuYaO6CQ7U4",
   "metadata": {
    "id": "YzuYaO6CQ7U4"
   },
   "outputs": [],
   "source": [
    "df_reduced=df.copy()\n",
    "df_reduced['Average_Amount_per_Frequency'] = df_reduced['Amount'] / df_reduced['Frequency']\n",
    "\n",
    "df_reduced = df_reduced.drop(['Amount', \"Frequency\"], axis=1)\n",
    "\n",
    "df_reduced = df_reduced.drop([\"order_channel_by phone\"], axis=1)\n"
   ]
  },
  {
   "cell_type": "code",
   "execution_count": null,
   "id": "ElD0sM_ZO10D",
   "metadata": {
    "colab": {
     "base_uri": "https://localhost:8080/"
    },
    "id": "ElD0sM_ZO10D",
    "outputId": "2d8874d8-b8d6-4d1c-a493-2acb60ae67c3"
   },
   "outputs": [],
   "source": [
    "from sklearn.preprocessing import OneHotEncoder\n",
    "\n",
    "encoder = OneHotEncoder(sparse=False, handle_unknown='ignore')\n",
    "\n",
    "encoded_data = encoder.fit_transform(df_reduced[['segment']])\n",
    "\n",
    "encoded_df = pd.DataFrame(encoded_data, columns=encoder.get_feature_names_out(['segment']))\n",
    "\n",
    "df_reduced = pd.concat([df_reduced.drop('segment', axis=1), encoded_df], axis=1)\n"
   ]
  },
  {
   "cell_type": "code",
   "execution_count": null,
   "id": "80c5f5a6-d2e5-4406-acff-4d820ba569dd",
   "metadata": {
    "colab": {
     "base_uri": "https://localhost:8080/",
     "height": 1000
    },
    "id": "80c5f5a6-d2e5-4406-acff-4d820ba569dd",
    "outputId": "7749a040-890b-403e-ed4f-e4e6b56eaefb"
   },
   "outputs": [],
   "source": [
    "plt.figure(figsize=(16, 12))\n",
    "sns.heatmap(df_reduced.corr(), annot=True, cmap='coolwarm')\n",
    "plt.title('Correlation Matrix')\n",
    "plt.show()"
   ]
  },
  {
   "cell_type": "code",
   "execution_count": null,
   "id": "pcRqwdM1OidC",
   "metadata": {
    "id": "pcRqwdM1OidC"
   },
   "outputs": [],
   "source": [
    "df_reduced = df_reduced.drop([\"segment_hibernating\"], axis=1)"
   ]
  },
  {
   "cell_type": "code",
   "execution_count": null,
   "id": "9WUFojmyOikV",
   "metadata": {
    "id": "9WUFojmyOikV"
   },
   "outputs": [],
   "source": [
    "X = df_reduced.drop(columns=['client_id', 'Churn'])  # Drop non-feature columns\n",
    "y = df_reduced['Churn']  # Target variable"
   ]
  },
  {
   "cell_type": "code",
   "execution_count": null,
   "id": "62f46085-567f-4567-a954-a160710d8dab",
   "metadata": {
    "id": "62f46085-567f-4567-a954-a160710d8dab"
   },
   "outputs": [],
   "source": [
    "X_train, X_test, y_train, y_test = train_test_split(X, y, test_size=0.2, random_state=42, stratify=y)\n"
   ]
  },
  {
   "cell_type": "code",
   "execution_count": null,
   "id": "8a0929e5-08d2-4335-b9ad-ad15326d870a",
   "metadata": {
    "colab": {
     "base_uri": "https://localhost:8080/"
    },
    "id": "8a0929e5-08d2-4335-b9ad-ad15326d870a",
    "outputId": "4713c440-4c6a-4136-a7a4-dd323b965586"
   },
   "outputs": [],
   "source": [
    "y_test.value_counts()"
   ]
  },
  {
   "cell_type": "code",
   "execution_count": null,
   "id": "hviVbHO7TWhg",
   "metadata": {
    "colab": {
     "base_uri": "https://localhost:8080/"
    },
    "id": "hviVbHO7TWhg",
    "outputId": "d5910704-49e9-4099-fa94-70ada9abfcf8"
   },
   "outputs": [],
   "source": [
    "y_train.value_counts()"
   ]
  },
  {
   "cell_type": "markdown",
   "id": "MyCNIkRO2i-L",
   "metadata": {
    "id": "MyCNIkRO2i-L"
   },
   "source": [
    "# Models"
   ]
  },
  {
   "cell_type": "markdown",
   "id": "2fKaNxWQO-VF",
   "metadata": {
    "id": "2fKaNxWQO-VF"
   },
   "source": [
    "## Simple Logistic Regresion"
   ]
  },
  {
   "cell_type": "code",
   "execution_count": null,
   "id": "ov6bNSDlTuZG",
   "metadata": {
    "colab": {
     "base_uri": "https://localhost:8080/",
     "height": 679
    },
    "id": "ov6bNSDlTuZG",
    "outputId": "2a1d5d21-5dcc-4347-b4da-a998a1c00f1f"
   },
   "outputs": [],
   "source": [
    "scaler = StandardScaler()\n",
    "X_train_scaled = scaler.fit_transform(X_train)\n",
    "X_test_scaled = scaler.transform(X_test)\n",
    "\n",
    "\n",
    "model = LogisticRegression(random_state=42)\n",
    "\n",
    "\n",
    "model.fit(X_train_scaled, y_train)\n",
    "\n",
    "\n",
    "y_pred = model.predict(X_test_scaled)\n",
    "\n",
    "# Model evaluation\n",
    "print(\"Accuracy:\", accuracy_score(y_test, y_pred))\n",
    "cm = confusion_matrix(y_test, y_pred)\n",
    "fig, ax = plt.subplots(figsize=(3,3))\n",
    "sns.heatmap(cm, annot=True, fmt=\"d\", ax=ax, cmap=\"Blues\", annot_kws={\"size\": 20})\n",
    "ax.set_xlabel('Predicted labels')\n",
    "ax.set_ylabel('True labels')\n",
    "ax.set_title('Confusion Matrix')\n",
    "ax.xaxis.set_ticklabels(['Not Churn', 'Churn'])\n",
    "ax.yaxis.set_ticklabels(['Not Churn', 'Churn'])\n",
    "\n",
    "plt.show()\n",
    "\n",
    "print(\"Classification Report:\\n\", classification_report(y_test, y_pred))"
   ]
  },
  {
   "cell_type": "markdown",
   "id": "7d80c823-6eef-45ff-ade6-a306b9dbb0b4",
   "metadata": {
    "id": "7d80c823-6eef-45ff-ade6-a306b9dbb0b4"
   },
   "source": [
    "## Feature selection"
   ]
  },
  {
   "cell_type": "code",
   "execution_count": null,
   "id": "b29f8cc5-c3f6-4873-8081-5b12aba5b010",
   "metadata": {
    "colab": {
     "base_uri": "https://localhost:8080/",
     "height": 74
    },
    "id": "b29f8cc5-c3f6-4873-8081-5b12aba5b010",
    "outputId": "78f32981-3991-4aa6-ab28-56070bdbffb3"
   },
   "outputs": [],
   "source": [
    "from sklearn.feature_selection import SelectKBest, f_regression\n",
    "\n",
    "sel_casual = SelectKBest(score_func=f_regression)\n",
    "sel_casual.fit(X_train, y_train)\n"
   ]
  },
  {
   "cell_type": "code",
   "execution_count": null,
   "id": "69589aa5-764d-483f-8490-a255c674a351",
   "metadata": {
    "colab": {
     "base_uri": "https://localhost:8080/",
     "height": 542
    },
    "id": "69589aa5-764d-483f-8490-a255c674a351",
    "outputId": "a64a48c5-98c1-4359-ac4f-3cc409c65f5e"
   },
   "outputs": [],
   "source": [
    "import plotly.express as px\n",
    "\n",
    "scores = pd.Series(sel_casual.scores_, index=X_train.columns)\n",
    "scores = scores.sort_values(ascending=False)\n",
    "px.bar(scores, template=\"none\", title=\"F-Score of features with Churn as dependent variable\")"
   ]
  },
  {
   "cell_type": "code",
   "execution_count": null,
   "id": "9FZoH5Zntllu",
   "metadata": {
    "id": "9FZoH5Zntllu"
   },
   "outputs": [],
   "source": []
  },
  {
   "cell_type": "markdown",
   "id": "daspHAGD2eSw",
   "metadata": {
    "id": "daspHAGD2eSw"
   },
   "source": [
    "## Random Forest Model"
   ]
  },
  {
   "cell_type": "code",
   "execution_count": null,
   "id": "glu-OAnNvOpH",
   "metadata": {
    "colab": {
     "base_uri": "https://localhost:8080/"
    },
    "id": "glu-OAnNvOpH",
    "outputId": "f8a1aa5b-c3d8-4868-cb48-d3390065a4a5"
   },
   "outputs": [],
   "source": [
    "rf_model = RandomForestClassifier(random_state=42, class_weight='balanced')\n",
    "\n",
    "smote = SMOTE(random_state=42)\n",
    "\n",
    "# Create a pipeline that first oversamples the minority class with SMOTE, then fits the RandomForest model\n",
    "pipeline = Pipeline([\n",
    "    ('smote', smote),\n",
    "    ('classifier', rf_model)\n",
    "])\n",
    "\n",
    "\n",
    "param_grid = {\n",
    "    'classifier__n_estimators': [20, 50],\n",
    "    'classifier__max_depth': [3, 5, 10],\n",
    "    'classifier__min_samples_split': [2, 5],\n",
    "    'classifier__min_samples_leaf': [1, 2, 4]\n",
    "}\n",
    "\n",
    "\n",
    "f1_scorer = make_scorer(f1_score)\n",
    "\n",
    "\n",
    "cv = StratifiedKFold(n_splits=5, shuffle=True, random_state=42)\n",
    "\n",
    "# Setup GridSearchCV with the F1 scorer\n",
    "grid_search = GridSearchCV(estimator=pipeline, param_grid=param_grid, cv=cv, scoring=f1_scorer, verbose=1)\n",
    "\n",
    "grid_search.fit(X_train, y_train)\n",
    "\n",
    "best_rf_model = grid_search.best_estimator_\n",
    "\n",
    "y_pred = best_rf_model.predict(X_test)"
   ]
  },
  {
   "cell_type": "markdown",
   "id": "kezrzARE3Ilz",
   "metadata": {
    "id": "kezrzARE3Ilz"
   },
   "source": [
    "### Model Evaluation"
   ]
  },
  {
   "cell_type": "code",
   "execution_count": null,
   "id": "45UnUD0roMeI",
   "metadata": {
    "colab": {
     "base_uri": "https://localhost:8080/",
     "height": 534
    },
    "id": "45UnUD0roMeI",
    "outputId": "cc5b1ebc-5ac1-4a33-8f20-0dddfee0eda4"
   },
   "outputs": [],
   "source": [
    "\n",
    "rf_f1_score = f1_score(y_test, y_pred)\n",
    "rf_confusion_matrix = confusion_matrix(y_test, y_pred)\n",
    "rf_classification_report = classification_report(y_test, y_pred)\n",
    "\n",
    "print(f'F1 Score: {rf_f1_score}')\n",
    "fig, ax = plt.subplots(figsize=(3,3))\n",
    "sns.heatmap(rf_confusion_matrix, annot=True, fmt=\"d\", ax=ax, cmap=\"Blues\", annot_kws={\"size\": 20})\n",
    "ax.set_xlabel('Predicted labels')\n",
    "ax.set_ylabel('True labels')\n",
    "ax.set_title('Confusion Matrix Random Forest')\n",
    "ax.xaxis.set_ticklabels(['Not Churn', 'Churn'])\n",
    "ax.yaxis.set_ticklabels(['Not Churn', 'Churn'])\n",
    "\n",
    "plt.show()\n",
    "print(f'Classification Report:\\n {rf_classification_report}')"
   ]
  },
  {
   "cell_type": "code",
   "execution_count": null,
   "id": "NwQYUX7mg1GS",
   "metadata": {
    "colab": {
     "base_uri": "https://localhost:8080/"
    },
    "id": "NwQYUX7mg1GS",
    "outputId": "8052bc8c-9cda-484c-c5bb-30008691a42d"
   },
   "outputs": [],
   "source": [
    "precision = precision_score(y_test, y_pred)\n",
    "recall = recall_score(y_test, y_pred)\n",
    "\n",
    "print(f\"Precision: {precision}\")\n",
    "print(f\"Recall: {recall}\")"
   ]
  },
  {
   "cell_type": "markdown",
   "id": "Kwhz9Jfi3NYW",
   "metadata": {
    "id": "Kwhz9Jfi3NYW"
   },
   "source": [
    "#### Predict probabilities"
   ]
  },
  {
   "cell_type": "code",
   "execution_count": null,
   "id": "TlXtvxRy99fb",
   "metadata": {
    "id": "TlXtvxRy99fb"
   },
   "outputs": [],
   "source": [
    "\n",
    "y_pred_proba = best_rf_model.predict_proba(X_test)[:, 1]"
   ]
  },
  {
   "cell_type": "markdown",
   "id": "l_1iC8_N3QBP",
   "metadata": {
    "id": "l_1iC8_N3QBP"
   },
   "source": [
    "#### ROC CURVE"
   ]
  },
  {
   "cell_type": "code",
   "execution_count": null,
   "id": "ugJTbGA893c2",
   "metadata": {
    "colab": {
     "base_uri": "https://localhost:8080/",
     "height": 472
    },
    "id": "ugJTbGA893c2",
    "outputId": "7c4e26a6-af01-4d69-bc7f-20148b438754"
   },
   "outputs": [],
   "source": [
    "fpr, tpr, thresholds = roc_curve(y_test, y_pred_proba)\n",
    "\n",
    "\n",
    "roc_auc = auc(fpr, tpr)\n",
    "\n",
    "plt.figure()\n",
    "lw = 2\n",
    "plt.plot(fpr, tpr, color='darkorange',\n",
    "         lw=lw, label='ROC curve (area = %0.2f)' % roc_auc)\n",
    "plt.plot([0, 1], [0, 1], color='navy', lw=lw, linestyle='--')\n",
    "plt.xlim([0.0, 1.0])\n",
    "plt.ylim([0.0, 1.05])\n",
    "plt.xlabel('False Positive Rate')\n",
    "plt.ylabel('True Positive Rate')\n",
    "plt.title('RF ROC CURVE')\n",
    "plt.legend(loc=\"lower right\")\n",
    "plt.show()\n"
   ]
  },
  {
   "cell_type": "markdown",
   "id": "_kEBM_so3VyK",
   "metadata": {
    "id": "_kEBM_so3VyK"
   },
   "source": [
    "#### Feature importance ranking Random Forest"
   ]
  },
  {
   "cell_type": "code",
   "execution_count": null,
   "id": "o2S64WYhCq9L",
   "metadata": {
    "colab": {
     "base_uri": "https://localhost:8080/",
     "height": 607
    },
    "id": "o2S64WYhCq9L",
    "outputId": "d9a05475-53f4-4997-b6e1-84e8cd4b6bfa"
   },
   "outputs": [],
   "source": [
    "rf = best_rf_model.named_steps['classifier']\n",
    "\n",
    "# Get feature importances from the random forest\n",
    "feature_importances = rf.feature_importances_\n",
    "\n",
    "feature_names = X_train.columns\n",
    "\n",
    "sorted_indices = np.argsort(feature_importances)[::-1]\n",
    "\n",
    "plt.figure(figsize=(12, 6))\n",
    "plt.title(\"Feature Importance Ranking Random Forest\")\n",
    "plt.bar(range(X_train.shape[1]), feature_importances[sorted_indices], align='center')\n",
    "plt.xticks(range(X_train.shape[1]), feature_names[sorted_indices], rotation=90)\n",
    "plt.tight_layout()\n",
    "plt.show()"
   ]
  },
  {
   "cell_type": "markdown",
   "id": "pcPvGID23e1l",
   "metadata": {
    "id": "pcPvGID23e1l"
   },
   "source": [
    "## XGBoost Model"
   ]
  },
  {
   "cell_type": "code",
   "execution_count": null,
   "id": "OPHqAgu4zwxR",
   "metadata": {
    "colab": {
     "base_uri": "https://localhost:8080/"
    },
    "id": "OPHqAgu4zwxR",
    "outputId": "2e8fcc45-4616-4673-cfb9-56b39491d811"
   },
   "outputs": [],
   "source": [
    "smote = SMOTE(random_state=42)\n",
    "\n",
    "xgb_model = XGBClassifier(random_state=42, scale_pos_weight=1, use_label_encoder=False, eval_metric='logloss')\n",
    "\n",
    "pipeline = ImbPipeline([\n",
    "    ('smote', smote),\n",
    "    ('xgb', xgb_model)\n",
    "])\n",
    "\n",
    "\n",
    "param_grid = {\n",
    "    'xgb__n_estimators': [20, 50, 80],\n",
    "    'xgb__learning_rate': [0.01, 0.1],\n",
    "    'xgb__max_depth': [3, 5, 7],\n",
    "}\n",
    "\n",
    "# Define custom scorers for evaluation\n",
    "scorers = {\n",
    "    'f1_score': make_scorer(f1_score),\n",
    "    'roc_auc': 'roc_auc',\n",
    "    'pr_auc': make_scorer(average_precision_score, needs_proba=True)\n",
    "}\n",
    "\n",
    "cv = StratifiedKFold(n_splits=5, shuffle=True, random_state=42)\n",
    "\n",
    "grid_search = GridSearchCV(estimator=pipeline, param_grid=param_grid, cv=cv, scoring=scorers, refit='f1_score', verbose=1)\n",
    "\n",
    "grid_search.fit(X_train, y_train)\n",
    "\n",
    "#best estimator\n",
    "best_xgb_model = grid_search.best_estimator_\n",
    "\n",
    "\n",
    "y_pred = best_xgb_model.predict(X_test)\n",
    "y_pred_proba = best_xgb_model.predict_proba(X_test)[:, 1]"
   ]
  },
  {
   "cell_type": "markdown",
   "id": "bgSfJtds4XfO",
   "metadata": {
    "id": "bgSfJtds4XfO"
   },
   "source": [
    "### Model Evaluation"
   ]
  },
  {
   "cell_type": "code",
   "execution_count": null,
   "id": "JJGmC6nl4VDp",
   "metadata": {
    "colab": {
     "base_uri": "https://localhost:8080/",
     "height": 588
    },
    "id": "JJGmC6nl4VDp",
    "outputId": "8ca3a8f6-f508-4975-a778-9aecb7ce47ba"
   },
   "outputs": [],
   "source": [
    "# Calculate different metrics\n",
    "f1 = f1_score(y_test, y_pred)\n",
    "roc_auc = roc_auc_score(y_test, y_pred_proba)\n",
    "pr_auc = average_precision_score(y_test, y_pred_proba)\n",
    "\n",
    "# Generate the classification report and confusion matrix\n",
    "classification_report_output = classification_report(y_test, y_pred)\n",
    "confusion_matrix_output = confusion_matrix(y_test, y_pred)\n",
    "\n",
    "print(f'Best XGB Model Parameters: {grid_search.best_params_}')\n",
    "print(f'F1 Score: {f1}')\n",
    "print(f'ROC AUC Score: {roc_auc}')\n",
    "print(f'Precision-Recall AUC Score: {pr_auc}')\n",
    "print('Classification Report XGBoost:\\n', classification_report_output)\n",
    "fig, ax = plt.subplots(figsize=(3,3))\n",
    "sns.heatmap(confusion_matrix_output, annot=True, fmt=\"d\", ax=ax, cmap=\"Blues\", annot_kws={\"size\": 20})\n",
    "ax.set_xlabel('Predicted labels')\n",
    "ax.set_ylabel('True labels')\n",
    "ax.set_title('Confusion Matrix XGBoost')\n",
    "ax.xaxis.set_ticklabels(['Not Churn', 'Churn'])\n",
    "ax.yaxis.set_ticklabels(['Not Churn', 'Churn'])\n",
    "\n",
    "plt.show()\n"
   ]
  },
  {
   "cell_type": "code",
   "execution_count": null,
   "id": "QdnOEywCgwTk",
   "metadata": {
    "colab": {
     "base_uri": "https://localhost:8080/"
    },
    "id": "QdnOEywCgwTk",
    "outputId": "23d27fea-946c-4c33-a0e3-2bbd124d989d"
   },
   "outputs": [],
   "source": [
    "precision = precision_score(y_test, y_pred)\n",
    "recall = recall_score(y_test, y_pred)\n",
    "\n",
    "print(f\"Precision: {precision}\")\n",
    "print(f\"Recall: {recall}\")"
   ]
  },
  {
   "cell_type": "markdown",
   "id": "Gm2-zKHs3zr8",
   "metadata": {
    "id": "Gm2-zKHs3zr8"
   },
   "source": [
    "#### ROC CURVE"
   ]
  },
  {
   "cell_type": "code",
   "execution_count": null,
   "id": "j3v2CKIrDJmE",
   "metadata": {
    "id": "j3v2CKIrDJmE"
   },
   "outputs": [],
   "source": [
    "y_pred_proba = best_xgb_model.predict_proba(X_test)[:, 1]"
   ]
  },
  {
   "cell_type": "code",
   "execution_count": null,
   "id": "b3830898-0434-421a-b8bd-8c8e7a7ab74b",
   "metadata": {
    "colab": {
     "base_uri": "https://localhost:8080/",
     "height": 472
    },
    "id": "b3830898-0434-421a-b8bd-8c8e7a7ab74b",
    "outputId": "c3207921-77d7-48e1-a930-484561a2449c"
   },
   "outputs": [],
   "source": [
    "fpr, tpr, thresholds = roc_curve(y_test, y_pred_proba)\n",
    "\n",
    "# Calculate the Area Under the Curve (AUC)\n",
    "roc_auc = auc(fpr, tpr)\n",
    "\n",
    "plt.figure()\n",
    "lw = 2\n",
    "plt.plot(fpr, tpr, color='darkorange',\n",
    "         lw=lw, label='ROC curve (area = %0.2f)' % roc_auc)\n",
    "plt.plot([0, 1], [0, 1], color='navy', lw=lw, linestyle='--')\n",
    "plt.xlim([0.0, 1.0])\n",
    "plt.ylim([0.0, 1.05])\n",
    "plt.xlabel('False Positive Rate')\n",
    "plt.ylabel('True Positive Rate')\n",
    "plt.title('XGBoost ROC CURVE')\n",
    "plt.legend(loc=\"lower right\")\n",
    "plt.show()\n"
   ]
  },
  {
   "cell_type": "markdown",
   "id": "UBwlbITt3pBD",
   "metadata": {
    "id": "UBwlbITt3pBD"
   },
   "source": [
    "### Precision and Recall Balance"
   ]
  },
  {
   "cell_type": "code",
   "execution_count": null,
   "id": "TwrdC4BT-QDT",
   "metadata": {
    "id": "TwrdC4BT-QDT"
   },
   "outputs": [],
   "source": [
    "y_scores = best_xgb_model.predict_proba(X_test)[:, 1]\n",
    "\n",
    "# Precision-recall curve\n",
    "precision_recall_curve(y_test, y_scores)\n"
   ]
  },
  {
   "cell_type": "code",
   "execution_count": null,
   "id": "350e17ff-0aef-4aad-ae12-8a4482ddbc70",
   "metadata": {
    "id": "350e17ff-0aef-4aad-ae12-8a4482ddbc70"
   },
   "outputs": [],
   "source": [
    "thresholds = np.linspace(0,1,1000)"
   ]
  },
  {
   "cell_type": "code",
   "execution_count": null,
   "id": "7OTVof84-Hau",
   "metadata": {
    "colab": {
     "base_uri": "https://localhost:8080/"
    },
    "id": "7OTVof84-Hau",
    "outputId": "d7aa461f-cfda-414c-dd87-e6d4c07a806a"
   },
   "outputs": [],
   "source": [
    "precs = []\n",
    "recs = []\n",
    "for th in thresholds:\n",
    "    precs.append(precision_score(y_test.astype(float), (y_scores >= th).astype(float)))\n",
    "    recs.append(recall_score(y_test.astype(float), (y_scores >= th).astype(float)))"
   ]
  },
  {
   "cell_type": "code",
   "execution_count": null,
   "id": "mBOckzcw-Hdc",
   "metadata": {
    "colab": {
     "base_uri": "https://localhost:8080/",
     "height": 542
    },
    "id": "mBOckzcw-Hdc",
    "outputId": "1ad0518a-a177-4817-cdec-bd8888afe110"
   },
   "outputs": [],
   "source": [
    "import plotly.graph_objects as go\n",
    "\n",
    "fig = go.Figure()\n",
    "\n",
    "fig.add_trace(go.Scatter(\n",
    "    x=thresholds,\n",
    "    y=precs,\n",
    "    name=\"Precision\",\n",
    "    line_width=3\n",
    "))\n",
    "fig.add_trace(go.Scatter(\n",
    "    x=thresholds,\n",
    "    y=recs,\n",
    "    name=\"Recall\",\n",
    "    line_width=3\n",
    "))\n",
    "\n",
    "fig.update_layout(title=\"Precision-Recall-Threshold\", xaxis_title=\"Threshold\", yaxis_title=\"Precision / Recall\", hovermode=\"x\", template=\"none\")"
   ]
  }
 ],
 "metadata": {
  "colab": {
   "machine_shape": "hm",
   "provenance": []
  },
  "kernelspec": {
   "display_name": "Python 3 (ipykernel)",
   "language": "python",
   "name": "python3"
  },
  "language_info": {
   "codemirror_mode": {
    "name": "ipython",
    "version": 3
   },
   "file_extension": ".py",
   "mimetype": "text/x-python",
   "name": "python",
   "nbconvert_exporter": "python",
   "pygments_lexer": "ipython3",
   "version": "3.11.4"
  }
 },
 "nbformat": 4,
 "nbformat_minor": 5
}
