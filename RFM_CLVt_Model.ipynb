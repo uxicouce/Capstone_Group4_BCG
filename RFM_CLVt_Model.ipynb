{
 "cells": [
  {
   "cell_type": "code",
   "execution_count": null,
   "id": "3499f71a-95ce-4869-a69c-882d50b54d20",
   "metadata": {
    "id": "3499f71a-95ce-4869-a69c-882d50b54d20",
    "tags": []
   },
   "outputs": [],
   "source": [
    "import pandas as pd\n",
    "import numpy as np\n",
    "import matplotlib.pyplot as plt\n",
    "import seaborn as sns"
   ]
  },
  {
   "cell_type": "code",
   "execution_count": null,
   "id": "GPpM0PiSqZxL",
   "metadata": {
    "colab": {
     "base_uri": "https://localhost:8080/"
    },
    "id": "GPpM0PiSqZxL",
    "outputId": "2e5b0dca-f8bc-4c1b-c90a-026754be001a"
   },
   "outputs": [],
   "source": [
    "from google.colab import drive\n",
    "drive.mount('/content/drive',force_remount=True)\n",
    "source_folder='/content/drive/My Drive/transactions_dataset.csv'\n"
   ]
  },
  {
   "cell_type": "code",
   "execution_count": null,
   "id": "c1755b33-bf6b-4db9-9dae-80d3a6153ed8",
   "metadata": {
    "id": "c1755b33-bf6b-4db9-9dae-80d3a6153ed8",
    "tags": []
   },
   "outputs": [],
   "source": [
    "\n",
    "df = pd.DataFrame(pd.read_csv(source_folder,  sep=';', index_col = None))\n"
   ]
  },
  {
   "cell_type": "code",
   "execution_count": null,
   "id": "5519fefc-b25c-49db-89a3-db14fd314cdf",
   "metadata": {
    "colab": {
     "base_uri": "https://localhost:8080/",
     "height": 206
    },
    "id": "5519fefc-b25c-49db-89a3-db14fd314cdf",
    "outputId": "1b008ff8-e1c0-44f5-ce5e-8a5921c84c44",
    "tags": []
   },
   "outputs": [],
   "source": [
    "df.head()"
   ]
  },
  {
   "cell_type": "markdown",
   "id": "I4cyuhM0pKLf",
   "metadata": {
    "id": "I4cyuhM0pKLf"
   },
   "source": [
    "# Data Preparation"
   ]
  },
  {
   "cell_type": "code",
   "execution_count": null,
   "id": "45a658ff-1b65-4f1a-b70b-a5175d6f3117",
   "metadata": {
    "colab": {
     "base_uri": "https://localhost:8080/"
    },
    "id": "45a658ff-1b65-4f1a-b70b-a5175d6f3117",
    "outputId": "c34d9f15-effc-41a5-b9fc-fe1ef40b0f3f",
    "tags": []
   },
   "outputs": [],
   "source": [
    "df['date_order'] = pd.to_datetime(df['date_order'])  # Convert the column to datetime format\n",
    "df['date_invoice'] = pd.to_datetime(df['date_invoice'])\n",
    "\n",
    "# Get the maximum and minimum dates\n",
    "max_date = df['date_order'].max()\n",
    "min_date = df['date_order'].min()\n",
    "\n",
    "print(\"Maximum Date:\", max_date)\n",
    "print(\"Minimum Date:\", min_date)"
   ]
  },
  {
   "cell_type": "code",
   "execution_count": null,
   "id": "5947d48b-8c17-42e4-b17f-7a70f4e76480",
   "metadata": {
    "colab": {
     "base_uri": "https://localhost:8080/"
    },
    "id": "5947d48b-8c17-42e4-b17f-7a70f4e76480",
    "outputId": "2abfdf87-bd74-4d74-e56d-1bb0172fc772",
    "tags": []
   },
   "outputs": [],
   "source": [
    "df.info()"
   ]
  },
  {
   "cell_type": "code",
   "execution_count": null,
   "id": "19ec1ed2-0413-4e43-a739-fa9487cf9436",
   "metadata": {
    "id": "19ec1ed2-0413-4e43-a739-fa9487cf9436",
    "tags": []
   },
   "outputs": [],
   "source": [
    "df['client_id'] = df['client_id'].astype(str)\n",
    "df['product_id'] = df['product_id'].astype(str)\n",
    "df['branch_id'] = df['branch_id'].astype(str)"
   ]
  },
  {
   "cell_type": "code",
   "execution_count": null,
   "id": "c8abdc62-a190-4190-9e82-3cf5f299f117",
   "metadata": {
    "id": "c8abdc62-a190-4190-9e82-3cf5f299f117",
    "tags": []
   },
   "outputs": [],
   "source": [
    "df = df.sort_values(by='date_order')"
   ]
  },
  {
   "cell_type": "code",
   "execution_count": null,
   "id": "be7d8c13-93ca-4c7c-a981-c95d1a36de6b",
   "metadata": {
    "colab": {
     "base_uri": "https://localhost:8080/"
    },
    "id": "be7d8c13-93ca-4c7c-a981-c95d1a36de6b",
    "outputId": "89d688c2-8eb9-4804-83a6-01339ac655e3",
    "tags": []
   },
   "outputs": [],
   "source": [
    "df.tail(30)"
   ]
  },
  {
   "cell_type": "code",
   "execution_count": null,
   "id": "ffcd6486-6ea9-4daa-bc26-1e0617598084",
   "metadata": {
    "colab": {
     "base_uri": "https://localhost:8080/"
    },
    "id": "ffcd6486-6ea9-4daa-bc26-1e0617598084",
    "outputId": "bfac66bb-0cdb-4f4d-aec0-0bea710533e0",
    "tags": []
   },
   "outputs": [],
   "source": [
    "df.info()"
   ]
  },
  {
   "cell_type": "code",
   "execution_count": null,
   "id": "d459a755-e5d7-4efe-9249-84210a1ce38f",
   "metadata": {
    "colab": {
     "base_uri": "https://localhost:8080/"
    },
    "id": "d459a755-e5d7-4efe-9249-84210a1ce38f",
    "outputId": "57d53b32-bd72-4396-8de8-ae4e36810b6b",
    "tags": []
   },
   "outputs": [],
   "source": [
    "df.describe()"
   ]
  },
  {
   "cell_type": "code",
   "execution_count": null,
   "id": "a994b157-dadc-4d85-9cfe-186e9848832d",
   "metadata": {
    "colab": {
     "base_uri": "https://localhost:8080/"
    },
    "id": "a994b157-dadc-4d85-9cfe-186e9848832d",
    "outputId": "cd8efffe-a267-4cc0-f00a-25bf9bd4908d",
    "tags": []
   },
   "outputs": [],
   "source": [
    "pd.DataFrame({\"Missing values (%)\":round(df.isnull().sum()/len(df), 2)})"
   ]
  },
  {
   "cell_type": "markdown",
   "id": "Op2aPVxAp8JP",
   "metadata": {
    "id": "Op2aPVxAp8JP"
   },
   "source": [
    "# RFM"
   ]
  },
  {
   "cell_type": "code",
   "execution_count": null,
   "id": "6df215ce-3b9b-4e8d-93a9-81a2322a633d",
   "metadata": {
    "colab": {
     "base_uri": "https://localhost:8080/",
     "height": 206
    },
    "id": "6df215ce-3b9b-4e8d-93a9-81a2322a633d",
    "outputId": "e2d93516-bbcd-44ed-cb82-783e760924c3",
    "tags": []
   },
   "outputs": [],
   "source": [
    "rfm_m = df.groupby('client_id')['sales_net'].sum()\n",
    "rfm_m = rfm_m.reset_index()\n",
    "rfm_m.head()"
   ]
  },
  {
   "cell_type": "code",
   "execution_count": null,
   "id": "dd4fdd39-57ed-4363-b322-3e934278fd42",
   "metadata": {
    "colab": {
     "base_uri": "https://localhost:8080/",
     "height": 206
    },
    "id": "dd4fdd39-57ed-4363-b322-3e934278fd42",
    "outputId": "d3e4527f-aaac-41da-ba11-8d0061cfec1b",
    "tags": []
   },
   "outputs": [],
   "source": [
    "rfm_f = df.groupby('client_id')[\"date_order\"].count()\n",
    "rfm_f = rfm_f.reset_index()\n",
    "rfm_f.columns = ['client_id', 'Frequency']\n",
    "rfm_f.head()"
   ]
  },
  {
   "cell_type": "code",
   "execution_count": null,
   "id": "1a590cfe-c866-4dd0-a2d9-64c39a8b8edb",
   "metadata": {
    "colab": {
     "base_uri": "https://localhost:8080/",
     "height": 206
    },
    "id": "1a590cfe-c866-4dd0-a2d9-64c39a8b8edb",
    "outputId": "ee7266ba-b4f1-4607-f664-db6e46260b4f",
    "tags": []
   },
   "outputs": [],
   "source": [
    "rfm = pd.merge(rfm_m, rfm_f, on='client_id', how='inner')\n",
    "rfm.head()"
   ]
  },
  {
   "cell_type": "code",
   "execution_count": null,
   "id": "69f0b229-32dd-4361-a123-7d355ccd8ab4",
   "metadata": {
    "colab": {
     "base_uri": "https://localhost:8080/"
    },
    "id": "69f0b229-32dd-4361-a123-7d355ccd8ab4",
    "outputId": "c80c795d-f946-499c-f535-d1b07458b413",
    "tags": []
   },
   "outputs": [],
   "source": [
    "max_date = max(df['date_order'])\n",
    "max_date"
   ]
  },
  {
   "cell_type": "code",
   "execution_count": null,
   "id": "e5bd6a41-be92-48b6-8528-00434213ae05",
   "metadata": {
    "colab": {
     "base_uri": "https://localhost:8080/",
     "height": 206
    },
    "id": "e5bd6a41-be92-48b6-8528-00434213ae05",
    "outputId": "7c2a2e8d-9014-41be-ab74-84a727ce358d",
    "tags": []
   },
   "outputs": [],
   "source": [
    "df['Diff'] = max_date - df['date_order']\n",
    "df.head()"
   ]
  },
  {
   "cell_type": "code",
   "execution_count": null,
   "id": "049ba912-c83c-4700-8db7-caac381358ae",
   "metadata": {
    "colab": {
     "base_uri": "https://localhost:8080/",
     "height": 206
    },
    "id": "049ba912-c83c-4700-8db7-caac381358ae",
    "outputId": "904f06a4-112f-4c28-d874-4e119cdbf119",
    "tags": []
   },
   "outputs": [],
   "source": [
    "rfm_p = df.groupby('client_id')['Diff'].min()\n",
    "rfm_p = rfm_p.reset_index()\n",
    "rfm_p.head()"
   ]
  },
  {
   "cell_type": "code",
   "execution_count": null,
   "id": "15734a2d-374a-4479-ab55-d44fb6236926",
   "metadata": {
    "colab": {
     "base_uri": "https://localhost:8080/",
     "height": 206
    },
    "id": "15734a2d-374a-4479-ab55-d44fb6236926",
    "outputId": "45910770-3ab6-4077-aaf4-72f0c4e0eee1",
    "tags": []
   },
   "outputs": [],
   "source": [
    "rfm_p['Diff'] = rfm_p['Diff'].dt.days\n",
    "rfm_p.head()"
   ]
  },
  {
   "cell_type": "code",
   "execution_count": null,
   "id": "5b1239e9-5506-4a59-820a-892d72a8533d",
   "metadata": {
    "colab": {
     "base_uri": "https://localhost:8080/",
     "height": 206
    },
    "id": "5b1239e9-5506-4a59-820a-892d72a8533d",
    "outputId": "337863ff-81de-4b59-8cd1-7c190562dec3",
    "tags": []
   },
   "outputs": [],
   "source": [
    "rfm = pd.merge(rfm, rfm_p, on='client_id', how='inner')\n",
    "rfm.columns = ['client_id', 'Amount', 'Frequency', 'Recency']\n",
    "rfm.head()"
   ]
  },
  {
   "cell_type": "markdown",
   "id": "rlAyyLH9p0ow",
   "metadata": {
    "id": "rlAyyLH9p0ow"
   },
   "source": [
    "### EDA RFM"
   ]
  },
  {
   "cell_type": "code",
   "execution_count": null,
   "id": "80ca5ed6-b4f1-4e22-a58a-8ce3512cf65b",
   "metadata": {
    "colab": {
     "base_uri": "https://localhost:8080/",
     "height": 737
    },
    "id": "80ca5ed6-b4f1-4e22-a58a-8ce3512cf65b",
    "outputId": "d6c1e391-5c1d-4359-d886-361be058ae05",
    "tags": []
   },
   "outputs": [],
   "source": [
    "attributes = ['Amount','Frequency','Recency']\n",
    "plt.rcParams['figure.figsize'] = [10,8]\n",
    "sns.boxplot(data = rfm[attributes], orient=\"v\", palette=\"Set2\" ,whis=1.5,saturation=1, width=0.7)\n",
    "plt.title(\"Outliers Variable Distribution\", fontsize = 14, fontweight = 'bold')\n",
    "plt.ylabel(\"Range\", fontweight = 'bold')\n",
    "plt.xlabel(\"Attributes\", fontweight = 'bold')"
   ]
  },
  {
   "cell_type": "markdown",
   "id": "n1nLCQCJqEF6",
   "metadata": {
    "id": "n1nLCQCJqEF6"
   },
   "source": [
    "It can be seen that the Amount Variable has huge outliers, this could led us to think that this costumers are B2B in contrast with the B2C ones that purchase a lower amount\n",
    "\n",
    "Order Size: B2B transactions typically involve larger order sizes compared to B2C. This is because businesses often purchase in bulk for operational needs, whereas individual consumers typically buy in smaller quantities for personal use.\n",
    "\n",
    "Transaction Frequency: B2B clients may have more consistent ordering patterns, with contracts or agreements in place that lead to regular large purchases. B2C consumers might make purchases more sporadically and with much smaller amounts.\n"
   ]
  },
  {
   "cell_type": "markdown",
   "id": "0Y-zv3AGrTmJ",
   "metadata": {
    "id": "0Y-zv3AGrTmJ"
   },
   "source": [
    "Building a churn model or conducting any kind of analysis, it would be wise to segment your customer base into B2B and B2C. This allows for more accurate modeling and analysis since the behavior and purchasing patterns are significantly different between these two groups."
   ]
  },
  {
   "cell_type": "code",
   "execution_count": null,
   "id": "188f52b0-7269-4e97-844a-80005116244e",
   "metadata": {
    "colab": {
     "base_uri": "https://localhost:8080/"
    },
    "id": "188f52b0-7269-4e97-844a-80005116244e",
    "outputId": "bd467e8b-5c32-4501-8446-c80beb32c8c5",
    "tags": []
   },
   "outputs": [],
   "source": [
    "# Rescaling the attributes\n",
    "\n",
    "from sklearn.preprocessing import StandardScaler\n",
    "\n",
    "rfm_df = rfm[['Amount', 'Frequency', 'Recency']]\n",
    "\n",
    "# Instantiate\n",
    "scaler = StandardScaler()\n",
    "\n",
    "# fit_transform\n",
    "rfm_df_scaled = scaler.fit_transform(rfm_df)\n",
    "rfm_df_scaled.shape"
   ]
  },
  {
   "cell_type": "code",
   "execution_count": null,
   "id": "f35e9a1f-c444-494a-be1e-35adb5be2ba9",
   "metadata": {
    "colab": {
     "base_uri": "https://localhost:8080/",
     "height": 206
    },
    "id": "f35e9a1f-c444-494a-be1e-35adb5be2ba9",
    "outputId": "869ce784-f87a-4bf9-dd97-a1cc1c8542a5",
    "tags": []
   },
   "outputs": [],
   "source": [
    "rfm_df_scaled = pd.DataFrame(rfm_df_scaled)\n",
    "rfm_df_scaled.columns = ['Amount', 'Frequency', 'Recency']\n",
    "rfm_df_scaled.head()\n"
   ]
  },
  {
   "cell_type": "markdown",
   "id": "e2f7994d-42e7-4885-8ed5-9d475708daf1",
   "metadata": {
    "id": "e2f7994d-42e7-4885-8ed5-9d475708daf1",
    "jp-MarkdownHeadingCollapsed": true,
    "tags": []
   },
   "source": [
    "## Model K means for client segmentation"
   ]
  },
  {
   "cell_type": "code",
   "execution_count": null,
   "id": "8fweQf34yehD",
   "metadata": {
    "id": "8fweQf34yehD"
   },
   "outputs": [],
   "source": [
    "\n",
    "from sklearn.cluster import KMeans"
   ]
  },
  {
   "cell_type": "code",
   "execution_count": null,
   "id": "b73b4f98-9f59-4a69-b535-30d820a57116",
   "metadata": {
    "colab": {
     "base_uri": "https://localhost:8080/",
     "height": 111
    },
    "id": "b73b4f98-9f59-4a69-b535-30d820a57116",
    "outputId": "bfcbd50a-75c9-49ba-aa88-d19c25b22f36",
    "tags": []
   },
   "outputs": [],
   "source": [
    "\n",
    "kmeans = KMeans(n_clusters=4, max_iter=50)\n",
    "kmeans.fit(rfm_df_scaled)"
   ]
  },
  {
   "cell_type": "code",
   "execution_count": null,
   "id": "6e7c2f76-adb6-4e44-a2db-0699388130c7",
   "metadata": {
    "colab": {
     "base_uri": "https://localhost:8080/",
     "height": 1000
    },
    "id": "6e7c2f76-adb6-4e44-a2db-0699388130c7",
    "outputId": "8fdfa03b-4473-4b24-b872-867870ff9490",
    "tags": []
   },
   "outputs": [],
   "source": [
    "\n",
    "ssd = []\n",
    "range_n_clusters = [2, 3, 4, 5, 6, 7, 8, 10, 20, 30]\n",
    "for num_clusters in range_n_clusters:\n",
    "    kmeans = KMeans(n_clusters=num_clusters, max_iter=50)\n",
    "    kmeans.fit(rfm_df_scaled)\n",
    "\n",
    "    ssd.append(kmeans.inertia_)\n",
    "\n",
    "# plot the SSDs for each n_clusters\n",
    "plt.plot(ssd)"
   ]
  },
  {
   "cell_type": "code",
   "execution_count": null,
   "id": "0fbbc6fd-b1a6-4213-978b-b1109d89d266",
   "metadata": {
    "colab": {
     "base_uri": "https://localhost:8080/",
     "height": 111
    },
    "id": "0fbbc6fd-b1a6-4213-978b-b1109d89d266",
    "outputId": "4b4a0eba-5b02-4267-e735-3934af13e131",
    "tags": []
   },
   "outputs": [],
   "source": [
    "# Final model with k=2 to see if it can be differenciated between B2B and B2C\n",
    "kmeans = KMeans(n_clusters=2, max_iter=50)\n",
    "kmeans.fit(rfm_df_scaled)"
   ]
  },
  {
   "cell_type": "code",
   "execution_count": null,
   "id": "1b4edab7-c28f-43b4-ae1f-a1d53b85d921",
   "metadata": {
    "colab": {
     "base_uri": "https://localhost:8080/",
     "height": 206
    },
    "id": "1b4edab7-c28f-43b4-ae1f-a1d53b85d921",
    "outputId": "28f6f036-9824-4c27-9738-c6317e9cff74",
    "tags": []
   },
   "outputs": [],
   "source": [
    "rfm['client_labels'] = kmeans.labels_\n",
    "rfm.head()"
   ]
  },
  {
   "cell_type": "code",
   "execution_count": null,
   "id": "zN4BVykPQfXY",
   "metadata": {
    "colab": {
     "base_uri": "https://localhost:8080/"
    },
    "id": "zN4BVykPQfXY",
    "outputId": "c6c93fa3-a443-4d22-a721-75ea0c42f05b"
   },
   "outputs": [],
   "source": [
    "rfm['client_labels'].value_counts()"
   ]
  },
  {
   "cell_type": "code",
   "execution_count": null,
   "id": "31055858-0a3a-49f0-918b-2940d0d1a190",
   "metadata": {
    "colab": {
     "base_uri": "https://localhost:8080/",
     "height": 729
    },
    "id": "31055858-0a3a-49f0-918b-2940d0d1a190",
    "outputId": "9b8dcfd7-1e94-4cb1-dd07-788f7251c65a",
    "tags": []
   },
   "outputs": [],
   "source": [
    "# Box plot to visualize Cluster Id vs Frequency\n",
    "\n",
    "sns.boxplot(x='client_labels', y='Amount', data=rfm)"
   ]
  },
  {
   "cell_type": "code",
   "execution_count": null,
   "id": "2b1c271f-82c3-42bf-afc1-ed1da95b97e6",
   "metadata": {
    "colab": {
     "base_uri": "https://localhost:8080/",
     "height": 714
    },
    "id": "2b1c271f-82c3-42bf-afc1-ed1da95b97e6",
    "outputId": "87778860-484d-4bc1-bf6c-9317694c39b1",
    "tags": []
   },
   "outputs": [],
   "source": [
    "#Box plot to visualize Cluster Id vs Frequency\n",
    "\n",
    "sns.boxplot(x='client_labels', y='Frequency', data=rfm)"
   ]
  },
  {
   "cell_type": "code",
   "execution_count": null,
   "id": "15a3e1be-aab7-4351-a2ff-19d35664590f",
   "metadata": {
    "colab": {
     "base_uri": "https://localhost:8080/",
     "height": 714
    },
    "id": "15a3e1be-aab7-4351-a2ff-19d35664590f",
    "outputId": "e0c32dd2-8028-4c01-f1e6-600c89a1403a",
    "tags": []
   },
   "outputs": [],
   "source": [
    "# Box plot to visualize Cluster Id vs Recency\n",
    "\n",
    "sns.boxplot(x='client_labels', y='Recency', data=rfm)"
   ]
  },
  {
   "cell_type": "markdown",
   "id": "LwMTGMKl2Wya",
   "metadata": {
    "id": "LwMTGMKl2Wya"
   },
   "source": [
    "Based on the box plots and assuming that Cluster 0 represents B2C customers and Cluster 1 represents B2B customers, the findings align with typical business patterns where B2B customers have larger but more frequent purchases"
   ]
  },
  {
   "cell_type": "markdown",
   "id": "fdff9a70-fbdd-4a71-a42b-8ea2c6612417",
   "metadata": {
    "id": "fdff9a70-fbdd-4a71-a42b-8ea2c6612417"
   },
   "source": [
    "## RFM Scores Model"
   ]
  },
  {
   "cell_type": "code",
   "execution_count": null,
   "id": "70a2b2f7-6d64-4af4-85fc-450047fed323",
   "metadata": {
    "id": "70a2b2f7-6d64-4af4-85fc-450047fed323",
    "tags": []
   },
   "outputs": [],
   "source": [
    "def get_rfm_scores(dataframe) -> pd.core.frame.DataFrame:\n",
    "\n",
    "    df_ = dataframe.copy()\n",
    "    df_[\"recency_score\"] = pd.qcut(df_[\"Recency\"], 5, labels=[5, 4, 3, 2, 1])\n",
    "    df_[\"frequency_score\"] = pd.qcut(\n",
    "        df_[\"Frequency\"].rank(method=\"first\"), 5, labels=[1, 2, 3, 4, 5]\n",
    "    )\n",
    "    df_[\"monetary_score\"] = pd.qcut(df_[\"Amount\"], 5, labels=[1, 2, 3, 4, 5])\n",
    "    df_[\"RFM_SCORE\"] = df_[\"recency_score\"].astype(str) + df_[\"frequency_score\"].astype(\n",
    "        str\n",
    "    )\n",
    "\n",
    "    return df_\n",
    "\n",
    "\n",
    "rfm = get_rfm_scores(rfm)\n"
   ]
  },
  {
   "cell_type": "code",
   "execution_count": null,
   "id": "a544a218-16d7-4223-a762-c30358a14d59",
   "metadata": {
    "colab": {
     "base_uri": "https://localhost:8080/",
     "height": 676
    },
    "id": "a544a218-16d7-4223-a762-c30358a14d59",
    "outputId": "c043ac6a-8bed-49e4-bba8-2041609dde16",
    "tags": []
   },
   "outputs": [],
   "source": [
    "seg_map = {r'[1-2][1-2]': 'hibernating',\n",
    "           r'[1-2][3-4]': 'at_Risk',\n",
    "           r'[1-2]5': 'cant_loose',\n",
    "           r'3[1-2]': 'about_to_sleep',\n",
    "           r'33': 'need_attention',\n",
    "           r'[3-4][4-5]': 'loyal_customers',\n",
    "           r'41': 'promising',\n",
    "           r'51': 'new_customers',\n",
    "           r'[4-5][2-3]': 'potential_loyalists',\n",
    "           r'5[4-5]': 'champions'}\n",
    "\n",
    "rfm['segment'] = rfm['RFM_SCORE'].replace(seg_map, regex = True)\n",
    "\n",
    "rfm.head(20)"
   ]
  },
  {
   "cell_type": "code",
   "execution_count": null,
   "id": "a69fb45f-a992-4f1a-8b87-d3a21d6c22d4",
   "metadata": {
    "colab": {
     "base_uri": "https://localhost:8080/"
    },
    "id": "a69fb45f-a992-4f1a-8b87-d3a21d6c22d4",
    "outputId": "5c67ef7e-a7b9-49d7-f2a3-683446f73565",
    "tags": []
   },
   "outputs": [],
   "source": [
    "pip install squarify\n"
   ]
  },
  {
   "cell_type": "markdown",
   "id": "24dd434c-b0f7-4339-aa32-3f5d088fbf95",
   "metadata": {
    "id": "24dd434c-b0f7-4339-aa32-3f5d088fbf95",
    "jp-MarkdownHeadingCollapsed": true,
    "tags": []
   },
   "source": [
    "### CUSTOMER SEGMENTATION MAP GRAPH"
   ]
  },
  {
   "cell_type": "code",
   "execution_count": null,
   "id": "26adf4ad-e9aa-4559-9dd8-a41f70d00b33",
   "metadata": {
    "colab": {
     "base_uri": "https://localhost:8080/",
     "height": 890
    },
    "id": "26adf4ad-e9aa-4559-9dd8-a41f70d00b33",
    "outputId": "14e6dbc8-3961-48a6-b3cd-d611708aa66b",
    "tags": []
   },
   "outputs": [],
   "source": [
    "import squarify\n",
    "\n",
    "segments = rfm[\"segment\"].value_counts().sort_values(ascending=False)\n",
    "fig = plt.gcf()\n",
    "ax = fig.add_subplot()\n",
    "fig.set_size_inches(26, 10)\n",
    "squarify.plot(\n",
    "    sizes=segments,\n",
    "    label=[label for label in seg_map.values()],\n",
    "    color=[\n",
    "        \"#AFB6B5\",\n",
    "        \"#F0819A\",\n",
    "        \"#926717\",\n",
    "        \"#F0F081\",\n",
    "        \"#81D5F0\",\n",
    "        \"#C78BE5\",\n",
    "        \"#748E80\",\n",
    "        \"#FAAF3A\",\n",
    "        \"#7B8FE4\",\n",
    "        \"#86E8C0\",\n",
    "    ],\n",
    "    pad=False,\n",
    "    bar_kwargs={\"alpha\": 1},\n",
    "    text_kwargs={\"fontsize\": 15},\n",
    ")\n",
    "plt.title(\"Customer Segmentation Map\", fontsize=20)\n",
    "plt.xlabel(\"Frequency\", fontsize=18)\n",
    "plt.ylabel(\"Recency\", fontsize=18)\n",
    "plt.show()"
   ]
  },
  {
   "cell_type": "code",
   "execution_count": null,
   "id": "cfad0cfe-9bdf-4ab1-832a-c4543cec0ac5",
   "metadata": {
    "colab": {
     "base_uri": "https://localhost:8080/",
     "height": 425
    },
    "id": "cfad0cfe-9bdf-4ab1-832a-c4543cec0ac5",
    "outputId": "c2643045-c5b6-4a16-cb06-1165ebacba1f",
    "tags": []
   },
   "outputs": [],
   "source": [
    "rfm[['Recency','Amount','Frequency','segment']]\\\n",
    ".groupby('segment')\\\n",
    ".agg({'mean','std','max','min'})"
   ]
  },
  {
   "cell_type": "code",
   "execution_count": null,
   "id": "d1e3677d-fc1a-4428-bb98-fd674018b1db",
   "metadata": {
    "colab": {
     "base_uri": "https://localhost:8080/",
     "height": 756
    },
    "id": "d1e3677d-fc1a-4428-bb98-fd674018b1db",
    "outputId": "cbcfa3dd-5de5-4211-fdfe-00bb6ad01918",
    "tags": []
   },
   "outputs": [],
   "source": [
    "plt.figure(figsize = (10, 5))\n",
    "sns.distplot(rfm.Recency)\n",
    "plt.axvline(rfm.Recency.mean(), c = 'red')\n",
    "plt.axvline(rfm.Recency.median(), c = 'black')\n",
    "plt.title('Distribution of Recency',fontweight='bold',fontsize=20)\n",
    "plt.xlabel('Recency',fontsize=15,color='black')\n",
    "plt.ylabel('value',fontsize=15,color='black')\n",
    "plt.show()\n",
    "print('Mean of recency: ', rfm.Recency.mean())\n",
    "print('Median of recency: ', rfm.Recency.median())\n",
    "print('Skewness of recency: ', rfm.Recency.skew())"
   ]
  },
  {
   "cell_type": "markdown",
   "id": "25ede4d9-2f1c-4fab-b076-efb80b4dc84d",
   "metadata": {
    "id": "25ede4d9-2f1c-4fab-b076-efb80b4dc84d"
   },
   "source": [
    "The churn rate, also known as the rate of attrition or customer churn, is the rate at which customers stop doing business with an entity.\n",
    "We used the recency column to frame the target variable. If the customer's recency falls above the average value of recency, we consider such customers as churned. The rest of the customers as not churned.\n",
    "We used the mean of recency as the threshold as the recency is normally or symmetrically distributed.\n",
    "We will have to impute the target variable to the main dataframe and do the further classification algorithm\n",
    "\n",
    "Appart from taking into account the client segments"
   ]
  },
  {
   "cell_type": "code",
   "execution_count": null,
   "id": "15d98011-18b9-4a0f-8b65-89ee51eb38cc",
   "metadata": {
    "colab": {
     "base_uri": "https://localhost:8080/",
     "height": 725
    },
    "id": "15d98011-18b9-4a0f-8b65-89ee51eb38cc",
    "outputId": "cee2662e-2ce1-40a0-829a-3ff1484fac1b",
    "tags": []
   },
   "outputs": [],
   "source": [
    "plt.figure(figsize = (18, 8))\n",
    "ax = sns.countplot(data = rfm,\n",
    "                   x = 'segment', hue='segment'\n",
    "                   )\n",
    "total = len(rfm.segment)\n",
    "for patch in ax.patches:\n",
    "    percentage = '{:.1f}%'.format(100 * patch.get_height()/total)\n",
    "    x = patch.get_x() + patch.get_width() / 2 - 0.17\n",
    "    y = patch.get_y() + patch.get_height() * 1.005\n",
    "    ax.annotate(percentage, (x, y), size = 14)\n",
    "plt.title('Number of Customers by Segments', size = 16)\n",
    "plt.xlabel('Segment', size = 14)\n",
    "plt.ylabel('Count', size = 14)\n",
    "plt.xticks(size = 10)\n",
    "plt.yticks(size = 10)\n",
    "plt.show()"
   ]
  },
  {
   "cell_type": "code",
   "execution_count": null,
   "id": "39eefcc6-8112-4960-b7aa-c09675c9bdb3",
   "metadata": {
    "colab": {
     "base_uri": "https://localhost:8080/",
     "height": 724
    },
    "id": "39eefcc6-8112-4960-b7aa-c09675c9bdb3",
    "outputId": "0c280cb7-c5b8-42ad-c073-77a770bc675b",
    "tags": []
   },
   "outputs": [],
   "source": [
    "plt.figure(figsize=(18, 8))\n",
    "sns.scatterplot(\n",
    "    data=rfm, x=\"Recency\", y=\"Frequency\", hue=\"segment\", s=60\n",
    ")\n",
    "plt.title(\"Recency & Frequency by Segments\", size=16)\n",
    "plt.xlabel(\"Recency\", size=12)\n",
    "plt.ylabel(\"Frequency\", size=12)\n",
    "plt.xticks(size=10)\n",
    "plt.yticks(size=10)\n",
    "plt.legend(loc=\"best\", fontsize=12, title=\"Segments\", title_fontsize=14)\n",
    "plt.show()"
   ]
  },
  {
   "cell_type": "markdown",
   "id": "232bdc07-ada4-4854-a4a3-7984e9d97e84",
   "metadata": {
    "id": "232bdc07-ada4-4854-a4a3-7984e9d97e84",
    "jp-MarkdownHeadingCollapsed": true,
    "tags": []
   },
   "source": [
    "### RFM SEGMENT ANALYSIS"
   ]
  },
  {
   "cell_type": "code",
   "execution_count": null,
   "id": "7586ed10-2e0f-4f5e-be73-0386a8ef1ee0",
   "metadata": {
    "colab": {
     "base_uri": "https://localhost:8080/",
     "height": 915
    },
    "id": "7586ed10-2e0f-4f5e-be73-0386a8ef1ee0",
    "outputId": "559baabc-bea5-41a9-d24a-2f8f9a3ab30d",
    "tags": []
   },
   "outputs": [],
   "source": [
    "fig, axes = plt.subplots(1, 3, figsize=(18, 8))\n",
    "fig.suptitle(\"RFM Segment Analysis\", size=14)\n",
    "feature_list = [\"Recency\", \"Amount\", \"Frequency\"]\n",
    "for idx, col in enumerate(feature_list):\n",
    "    sns.boxplot(\n",
    "        ax=axes[idx], data=rfm, x=\"segment\", y=feature_list[idx], hue='segment'\n",
    "    )\n",
    "    axes[idx].set_xticklabels(axes[idx].get_xticklabels(), rotation=60)\n",
    "    if idx == 1:\n",
    "        axes[idx].set_ylim([0, 230000])\n",
    "    if idx == 2:\n",
    "        axes[idx].set_ylim([0, 1200])\n",
    "plt.tight_layout()\n",
    "plt.show()"
   ]
  },
  {
   "cell_type": "code",
   "execution_count": null,
   "id": "e4832793-c205-4b32-b17e-696009f63891",
   "metadata": {
    "colab": {
     "base_uri": "https://localhost:8080/",
     "height": 1000
    },
    "id": "e4832793-c205-4b32-b17e-696009f63891",
    "outputId": "8179a2ca-dec3-4f76-b089-2cd066e27fdd",
    "tags": []
   },
   "outputs": [],
   "source": [
    "fig, axes = plt.subplots(3, 1, figsize=(16, 12))\n",
    "fig.suptitle('RFM Segment Analysis', size = 14)\n",
    "feature_list = ['Recency', 'Amount', 'Frequency']\n",
    "for idx, col in enumerate(feature_list):\n",
    "    sns.histplot(ax = axes[idx], data = rfm,\n",
    "                 hue = 'segment', x = feature_list[idx]\n",
    "                )\n",
    "    if idx == 1:\n",
    "        axes[idx].set_xlim([0, 60000])\n",
    "    if idx == 2:\n",
    "        axes[idx].set_xlim([0, 400])\n",
    "plt.tight_layout()\n",
    "plt.show()"
   ]
  },
  {
   "cell_type": "markdown",
   "id": "mabzUs913LZf",
   "metadata": {
    "id": "mabzUs913LZf"
   },
   "source": [
    "# Cohort Analysis"
   ]
  },
  {
   "cell_type": "code",
   "execution_count": null,
   "id": "6EBA2JIT3K0j",
   "metadata": {
    "colab": {
     "base_uri": "https://localhost:8080/",
     "height": 807
    },
    "id": "6EBA2JIT3K0j",
    "outputId": "11180323-4438-41bd-c71d-42d13dbf4f00"
   },
   "outputs": [],
   "source": [
    "# In Cohort Analysis, we track groups of users over time who find some common patterns or behaviors.\n",
    "import matplotlib.colors as mcolors\n",
    "from operator import attrgetter\n",
    "def CohortAnalysis(dataframe):\n",
    "    dataframe = dataframe[[\"client_id\", \"date_order\"]].drop_duplicates() # NO SURE IF I NEED THIS\n",
    "    dataframe[\"order_month\"] = dataframe[\"date_order\"].dt.to_period(\"M\")\n",
    "    dataframe[\"cohort\"] = (dataframe.groupby(\"client_id\")[\"date_order\"].transform(\"min\").dt.to_period(\"M\"))\n",
    "    cohort_data = (dataframe.groupby([\"cohort\", \"order_month\"]).agg(n_customers=(\"client_id\", \"nunique\")).reset_index(drop=False))\n",
    "    cohort_data[\"period_number\"] = (cohort_data.order_month - cohort_data.cohort).apply(attrgetter(\"n\"))\n",
    "    cohort_pivot = cohort_data.pivot_table(index=\"cohort\", columns=\"period_number\", values=\"n_customers\")\n",
    "    cohort_size = cohort_pivot.iloc[:, 0]\n",
    "    retention_matrix = cohort_pivot.divide(cohort_size, axis=0)\n",
    "    with sns.axes_style(\"white\"):\n",
    "        fig, ax = plt.subplots(1, 2, figsize=(12, 8), sharey=True, gridspec_kw={\"width_ratios\": [1, 11]})\n",
    "        sns.heatmap(retention_matrix,mask=retention_matrix.isnull(), annot=True, cbar=False, fmt=\".0%\", cmap=\"inferno\", ax=ax[1],)\n",
    "        ax[1].set_title(\"Monthly Cohorts: User Retention\", fontsize=14)\n",
    "        ax[1].set(xlabel=\"# of periods\", ylabel=\"\")\n",
    "        white_cmap = mcolors.ListedColormap([\"white\"])\n",
    "        sns.heatmap(pd.DataFrame(cohort_size).rename(columns={0: \"cohort_size\"}),annot=True,cbar=False,fmt=\"g\",cmap=white_cmap,ax=ax[0],)\n",
    "        fig.tight_layout()\n",
    "\n",
    "CohortAnalysis(df)"
   ]
  },
  {
   "cell_type": "markdown",
   "id": "bKMlwmAR6Mbs",
   "metadata": {
    "id": "bKMlwmAR6Mbs"
   },
   "source": [
    "# Customer LTV"
   ]
  },
  {
   "cell_type": "code",
   "execution_count": null,
   "id": "dsQjRTgfok0B",
   "metadata": {
    "colab": {
     "base_uri": "https://localhost:8080/"
    },
    "id": "dsQjRTgfok0B",
    "outputId": "ea26bc43-38b4-4b10-80a4-7e13b21d8ac7"
   },
   "outputs": [],
   "source": [
    "pip install lifetimes\n"
   ]
  },
  {
   "cell_type": "code",
   "execution_count": null,
   "id": "3zaNU-Fw9APu",
   "metadata": {
    "id": "3zaNU-Fw9APu"
   },
   "outputs": [],
   "source": [
    "from plotly.tools import FigureFactory as ff\n",
    "from lifetimes import GammaGammaFitter\n",
    "from lifetimes.plotting import plot_history_alive\n",
    "from lifetimes.utils import summary_data_from_transaction_data\n",
    "from lifetimes import BetaGeoFitter\n"
   ]
  },
  {
   "cell_type": "code",
   "execution_count": null,
   "id": "eZHsu8d9-h2d",
   "metadata": {
    "id": "eZHsu8d9-h2d"
   },
   "outputs": [],
   "source": [
    "cltv_df = df.groupby(\"client_id\").agg(\n",
    "    recency=pd.NamedAgg(column='date_invoice', aggfunc=lambda date_invoice: (date_invoice.max() - date_invoice.min()).days),\n",
    "    T=pd.NamedAgg(column='date_invoice', aggfunc=lambda date_invoice: (date_invoice.max() - date_invoice.min()).days),\n",
    "    frequency=pd.NamedAgg(column='date_invoice', aggfunc='nunique'),\n",
    "    monetary=pd.NamedAgg(column='sales_net', aggfunc='sum')\n",
    ")\n",
    "\n",
    "# Monetary: Average earning per purchase (Frequency)\n",
    "\n",
    "cltv_df[\"monetary\"]  = cltv_df[\"monetary\"] / cltv_df[\"frequency\"]\n",
    "\n",
    "# Lets filtered the data according to Frequency > 1\n",
    "\n",
    "cltv_df = cltv_df[cltv_df[\"frequency\"] > 1]\n",
    "\n",
    "# Recency and T values is in day format. We should convert to the weekly format.\n",
    "\n",
    "cltv_df[\"recency\"] = cltv_df[\"recency\"] / 7\n",
    "\n",
    "cltv_df[\"T\"] = cltv_df[\"T\"] / 7"
   ]
  },
  {
   "cell_type": "code",
   "execution_count": null,
   "id": "xeHwblUa68j6",
   "metadata": {
    "colab": {
     "base_uri": "https://localhost:8080/",
     "height": 237
    },
    "id": "xeHwblUa68j6",
    "outputId": "85f4b212-7a20-4333-ddc7-340fe5b0979d"
   },
   "outputs": [],
   "source": [
    "cltv_df.head()"
   ]
  },
  {
   "cell_type": "markdown",
   "id": "Ced-09in-LPw",
   "metadata": {
    "id": "Ced-09in-LPw"
   },
   "source": [
    "### BetaGeoFitter, BG-NBD Model."
   ]
  },
  {
   "cell_type": "code",
   "execution_count": null,
   "id": "d62OWFkf-IU_",
   "metadata": {
    "colab": {
     "base_uri": "https://localhost:8080/"
    },
    "id": "d62OWFkf-IU_",
    "outputId": "c8c6b7a8-ea4c-439d-b1bd-184b37578094"
   },
   "outputs": [],
   "source": [
    "bgf = BetaGeoFitter(penalizer_coef= 0.001)\n",
    "\n",
    "# Preparation of the Model\n",
    "\n",
    "bgf.fit(cltv_df[\"frequency\"],\n",
    "        cltv_df[\"recency\"],\n",
    "        cltv_df[\"T\"])"
   ]
  },
  {
   "cell_type": "markdown",
   "id": "Yy7rMn8o_cku",
   "metadata": {
    "id": "Yy7rMn8o_cku"
   },
   "source": [
    "Customers  top purchasers in 3 months"
   ]
  },
  {
   "cell_type": "code",
   "execution_count": null,
   "id": "-K4YQC2m_Oiz",
   "metadata": {
    "colab": {
     "base_uri": "https://localhost:8080/",
     "height": 455
    },
    "id": "-K4YQC2m_Oiz",
    "outputId": "5d3d3fd3-78fe-472c-e5ec-ef8e5add4e41"
   },
   "outputs": [],
   "source": [
    "cltv_df[\"expected_purc_3_month\"] = bgf.predict(12,\n",
    "                                                cltv_df[\"frequency\"],\n",
    "                                                cltv_df[\"recency\"],\n",
    "                                                cltv_df[\"T\"])\n",
    "\n",
    "cltv_df.sort_values(\"expected_purc_3_month\", ascending = False)"
   ]
  },
  {
   "cell_type": "markdown",
   "id": "2KzftuNXAiLK",
   "metadata": {
    "id": "2KzftuNXAiLK"
   },
   "source": [
    "### Gamma Gamma Model"
   ]
  },
  {
   "cell_type": "code",
   "execution_count": null,
   "id": "xX1RgcpdCa_T",
   "metadata": {
    "id": "xX1RgcpdCa_T"
   },
   "outputs": [],
   "source": [
    "# Filter out customers with non-positive monetary value, which are errors or returns to be able to execute the GammaGammaFitter\n",
    "cltv_df = cltv_df[cltv_df[\"monetary\"] > 0]"
   ]
  },
  {
   "cell_type": "code",
   "execution_count": null,
   "id": "LS8A7LobAhSs",
   "metadata": {
    "id": "LS8A7LobAhSs"
   },
   "outputs": [],
   "source": [
    "ggf = GammaGammaFitter(penalizer_coef= 0.01)\n",
    "\n",
    "ggf.fit(cltv_df[\"frequency\"], cltv_df[\"monetary\"])\n",
    "\n",
    "# It means, calculate the expected average profit.\n",
    "\n",
    "cltv_df[\"expected_average_profit\"] = ggf.conditional_expected_average_profit(cltv_df[\"frequency\"], cltv_df[\"monetary\"])"
   ]
  },
  {
   "cell_type": "markdown",
   "id": "FG89ecbgBjVt",
   "metadata": {
    "id": "FG89ecbgBjVt"
   },
   "source": [
    "CLTV Calculation with BG/NBD & Gamma Gamma Model"
   ]
  },
  {
   "cell_type": "code",
   "execution_count": null,
   "id": "O2flW7poAq0_",
   "metadata": {
    "colab": {
     "base_uri": "https://localhost:8080/",
     "height": 363
    },
    "id": "O2flW7poAq0_",
    "outputId": "a97efd6c-a4fb-4e50-b507-07dd422a47e1"
   },
   "outputs": [],
   "source": [
    "cltv = ggf.customer_lifetime_value(bgf,\n",
    "                                   cltv_df[\"frequency\"],\n",
    "                                   cltv_df[\"recency\"],\n",
    "                                   cltv_df[\"T\"],\n",
    "                                   cltv_df[\"monetary\"],\n",
    "                                   time = 3, # 3 Aylık\n",
    "                                   freq = \"W\", # T'nin frekans bilgisi\n",
    "                                   discount_rate= 0.01)\n",
    "\n",
    "cltv = cltv.reset_index()\n",
    "\n",
    "cltv_final = cltv_df.merge(cltv, on = \"client_id\", how = \"left\")\n",
    "cltv_final.sort_values(by = \"clv\", ascending = False).head(10)"
   ]
  },
  {
   "cell_type": "code",
   "execution_count": null,
   "id": "7g_qbblcBnza",
   "metadata": {
    "colab": {
     "base_uri": "https://localhost:8080/",
     "height": 267
    },
    "id": "7g_qbblcBnza",
    "outputId": "aeb84e19-a7c5-4cfc-f1fa-f842c18b6bac"
   },
   "outputs": [],
   "source": [
    "# Lets add the segmentation to the dataset according to clv values of the customers.\n",
    "\n",
    "cltv_final[\"segment\"] = pd.qcut(cltv_final[\"clv\"], 4, labels = [\"D\", \"C\", \"B\", \"A\"])\n",
    "\n",
    "cltv_final.groupby(\"segment\").agg({\"count\", \"sum\", \"mean\"})"
   ]
  },
  {
   "cell_type": "code",
   "execution_count": null,
   "id": "QyaYMjluBqSU",
   "metadata": {
    "colab": {
     "base_uri": "https://localhost:8080/",
     "height": 363
    },
    "id": "QyaYMjluBqSU",
    "outputId": "dce47990-8b33-4520-b1ca-cc0ca8ff5879"
   },
   "outputs": [],
   "source": [
    "cltv_final_sort=cltv_final.sort_values(by = \"clv\", ascending = False).head(10)\n",
    "cltv_final_sort"
   ]
  },
  {
   "cell_type": "code",
   "execution_count": null,
   "id": "nUeG_KWxERoV",
   "metadata": {
    "colab": {
     "base_uri": "https://localhost:8080/",
     "height": 564
    },
    "id": "nUeG_KWxERoV",
    "outputId": "e0007900-2ed4-47d7-9b05-dfe677a4fe93"
   },
   "outputs": [],
   "source": [
    "# Bar plot for average expected purchase by segment\n",
    "plt.figure(figsize=(10, 6))\n",
    "sns.barplot(x='segment', y='expected_purc_3_month', data=cltv_final, estimator=sum)\n",
    "plt.title('Total Expected Purchases in 3 Months by Segment')\n",
    "plt.show()"
   ]
  },
  {
   "cell_type": "markdown",
   "id": "68bfef89-7c2c-490f-a9fc-17823c84d804",
   "metadata": {
    "id": "68bfef89-7c2c-490f-a9fc-17823c84d804",
    "tags": []
   },
   "source": [
    "# AVERAGE PURCHASE FREQUENCY"
   ]
  },
  {
   "cell_type": "code",
   "execution_count": null,
   "id": "f907bc4a-0554-4a18-9b7a-bf962a10ea40",
   "metadata": {
    "colab": {
     "base_uri": "https://localhost:8080/",
     "height": 728
    },
    "id": "f907bc4a-0554-4a18-9b7a-bf962a10ea40",
    "outputId": "ee9838e7-a448-4d7b-ed31-5b2235d508e4"
   },
   "outputs": [],
   "source": [
    "\n",
    "df = df.sort_values(['client_id', 'date_order'])\n",
    "\n",
    "\n",
    "df['PrevPurchaseDate'] = df.groupby('client_id')['date_order'].shift(1)\n",
    "df['DaysBetweenPurchases'] = (df['date_order'] - df['PrevPurchaseDate']).dt.days\n",
    "\n",
    "\n",
    "avg_purchase_frequency = df.groupby('client_id')['DaysBetweenPurchases'].mean().reset_index()\n",
    "\n",
    "\n",
    "print(avg_purchase_frequency.describe())\n",
    "\n",
    "\n",
    "import matplotlib.pyplot as plt\n",
    "import seaborn as sns\n",
    "\n",
    "plt.figure(figsize=(10, 6))\n",
    "sns.histplot(avg_purchase_frequency['DaysBetweenPurchases'], bins=30, kde=True)\n",
    "plt.title('Distribution of Average Purchase Frequency (Days)')\n",
    "plt.xlabel('Average Days Between Purchases')\n",
    "plt.ylabel('Number of Customers')\n",
    "plt.show()\n"
   ]
  },
  {
   "cell_type": "code",
   "execution_count": null,
   "id": "b86517f0-0e27-48c6-b869-1d0fc539cde6",
   "metadata": {
    "colab": {
     "base_uri": "https://localhost:8080/"
    },
    "id": "b86517f0-0e27-48c6-b869-1d0fc539cde6",
    "outputId": "5ec8560e-21e9-488d-a4c0-4d1621e6f55d",
    "tags": []
   },
   "outputs": [],
   "source": [
    "median_recency = avg_purchase_frequency['DaysBetweenPurchases'].median()\n",
    "percentile_75th_recency = avg_purchase_frequency['DaysBetweenPurchases'].quantile(0.75)\n",
    "percentile_75th_recency"
   ]
  },
  {
   "cell_type": "markdown",
   "id": "8802526d-96d5-4558-9277-925950fe1a92",
   "metadata": {
    "id": "8802526d-96d5-4558-9277-925950fe1a92"
   },
   "source": [
    "High Variability, there is a high standard deviation, meaning there's a wide spread in the frequency of purchases among your customers and huge outliers\n",
    "\n",
    "We'll use the 75th percentile.\n"
   ]
  },
  {
   "cell_type": "markdown",
   "id": "f324d51a-cc7f-40f2-8ae0-0e53b7f7bd06",
   "metadata": {
    "id": "f324d51a-cc7f-40f2-8ae0-0e53b7f7bd06"
   },
   "source": [
    "# Churn Column"
   ]
  },
  {
   "cell_type": "markdown",
   "id": "CvgiHgxLE7FW",
   "metadata": {
    "id": "CvgiHgxLE7FW"
   },
   "source": [
    "# Split between B2C and B2B Customers"
   ]
  },
  {
   "cell_type": "code",
   "execution_count": null,
   "id": "hhOy4ViEE6AD",
   "metadata": {
    "colab": {
     "base_uri": "https://localhost:8080/",
     "height": 423
    },
    "id": "hhOy4ViEE6AD",
    "outputId": "faa8ecf1-a032-457b-e04a-2d151803eeb9"
   },
   "outputs": [],
   "source": [
    "\n",
    "amount_threshold = 10000\n",
    "\n",
    "# Classify clients based on the calculated threshold\n",
    "rfm['Client_Type'] = rfm.apply(\n",
    "    lambda x: 'B2B' if x['Amount'] >= amount_threshold else 'B2C',\n",
    "    axis=1\n",
    ")\n",
    "\n",
    "rfm\n"
   ]
  },
  {
   "cell_type": "code",
   "execution_count": null,
   "id": "jQ_0IbCmFAUH",
   "metadata": {
    "colab": {
     "base_uri": "https://localhost:8080/"
    },
    "id": "jQ_0IbCmFAUH",
    "outputId": "e0842d5e-c570-4567-ed5b-8d01e053b3f6"
   },
   "outputs": [],
   "source": [
    "# Size of each group.\n",
    "counts=rfm.groupby(\"Client_Type\").size()\n",
    "print(counts)\n",
    "print(counts[0]/len(rfm))\n",
    "print(counts[1]/len(rfm))"
   ]
  },
  {
   "cell_type": "code",
   "execution_count": null,
   "id": "EC93CuiuJmly",
   "metadata": {
    "colab": {
     "base_uri": "https://localhost:8080/",
     "height": 472
    },
    "id": "EC93CuiuJmly",
    "outputId": "245b5f06-27b0-4bda-a7bc-5d04beab8785"
   },
   "outputs": [],
   "source": [
    "import matplotlib.pyplot as plt\n",
    "import seaborn as sns\n",
    "\n",
    "\n",
    "sns.kdeplot(data=rfm, x=\"Amount\")\n",
    "plt.xlabel('Amount')\n",
    "plt.ylabel('Density')\n",
    "plt.title('Distribution of Amount')\n",
    "plt.xlim([0, 500000])\n",
    "plt.show()\n"
   ]
  },
  {
   "cell_type": "code",
   "execution_count": null,
   "id": "2-pgGdRaO098",
   "metadata": {
    "colab": {
     "base_uri": "https://localhost:8080/",
     "height": 472
    },
    "id": "2-pgGdRaO098",
    "outputId": "f317e737-9a0c-4cff-ef77-058f6010c631"
   },
   "outputs": [],
   "source": [
    "\n",
    "\n",
    "sns.histplot(data=rfm, x=\"Amount\")\n",
    "plt.xlabel('Amount')\n",
    "plt.ylabel('Count')\n",
    "plt.title('Histogram of Amount')\n",
    "plt.xlim([0, 500000])\n",
    "plt.show()\n"
   ]
  },
  {
   "cell_type": "code",
   "execution_count": null,
   "id": "CjwRUS9eFAeA",
   "metadata": {
    "colab": {
     "base_uri": "https://localhost:8080/",
     "height": 676
    },
    "id": "CjwRUS9eFAeA",
    "outputId": "48e2ddb6-ef33-40f1-86c5-9414ad9ff148"
   },
   "outputs": [],
   "source": [
    "rfm.head(20)"
   ]
  },
  {
   "cell_type": "code",
   "execution_count": null,
   "id": "d1p7oTw7XDvF",
   "metadata": {
    "colab": {
     "base_uri": "https://localhost:8080/",
     "height": 990
    },
    "id": "d1p7oTw7XDvF",
    "outputId": "63a8bbc8-c1c1-4a9a-f40f-a26e4560fe5c"
   },
   "outputs": [],
   "source": [
    "rfm[((rfm[\"Client_Type\"]==\"B2B\"))].head(30) # FREQUENCY BASTANTE ALTA POR ESO K MEANS LOS CLASSIFICO COMO B2C Y NO B2B, AROUND 100 DIFERENT CLASSIFIED"
   ]
  },
  {
   "cell_type": "code",
   "execution_count": null,
   "id": "y8_eLkbbXD3w",
   "metadata": {
    "id": "y8_eLkbbXD3w"
   },
   "outputs": [],
   "source": [
    "# Splitting the DataFrame based on 'client_labels'\n",
    "rfm_B2C = rfm[rfm['Client_Type'] == \"B2C\"].copy()\n",
    "rfm_B2B = rfm[rfm['Client_Type'] == \"B2B\"].copy()\n"
   ]
  },
  {
   "cell_type": "markdown",
   "id": "708ffc6c-8493-484f-af77-e5c5693d1e42",
   "metadata": {
    "id": "708ffc6c-8493-484f-af77-e5c5693d1e42",
    "tags": []
   },
   "source": [
    "# CHURN METHOD"
   ]
  },
  {
   "cell_type": "code",
   "execution_count": null,
   "id": "397a29ba-4248-41a0-aa91-e1bd5eeda0d4",
   "metadata": {
    "id": "397a29ba-4248-41a0-aa91-e1bd5eeda0d4",
    "tags": []
   },
   "outputs": [],
   "source": [
    "def define_churn2(row, threshold_churn):\n",
    "    \"\"\"\n",
    "    Define churn based on the customer segment and the distribution of purchase frequency.\n",
    "\n",
    "    Parameters:\n",
    "    - row: A row from the RFM DataFrame.\n",
    "    - threshold define to consider a customer churned\n",
    "\n",
    "    Returns:\n",
    "    - int: 1 if the customer is considered churned, 0 otherwise.\n",
    "    \"\"\"\n",
    "    #segment = row['segment']\n",
    "    recency = row['Recency']\n",
    "\n",
    "    # Determine churn based on the recency and the segment threshold\n",
    "    return 1 if recency > threshold_churn else 0"
   ]
  },
  {
   "cell_type": "markdown",
   "id": "bBYCv4imaL_u",
   "metadata": {
    "id": "bBYCv4imaL_u"
   },
   "source": [
    "### CHURN B2B 3 MOTHS + PERCENTILE"
   ]
  },
  {
   "cell_type": "code",
   "execution_count": null,
   "id": "0168199f-03e0-4ec8-a307-10fc8e8fbee0",
   "metadata": {
    "colab": {
     "base_uri": "https://localhost:8080/"
    },
    "id": "0168199f-03e0-4ec8-a307-10fc8e8fbee0",
    "outputId": "112c0f40-a77c-4577-8c32-b9e4c00fbf8a"
   },
   "outputs": [],
   "source": [
    "threshold_churn = percentile_75th_recency + 90  # Replace with your actual 75th percentile value + 90 days (3moths)\n",
    "\n",
    "# Apply the function to your data\n",
    "rfm_B2B['Churn'] = rfm_B2B.apply(define_churn2, args=(threshold_churn,), axis=1)\n",
    "\n",
    "rfm_B2B[\"Churn\"].value_counts()[1]/rfm_B2B.count()"
   ]
  },
  {
   "cell_type": "markdown",
   "id": "tsiDtKW5bI6c",
   "metadata": {
    "id": "tsiDtKW5bI6c"
   },
   "source": [
    "### CHURN B2C 12MONTHS + percentile"
   ]
  },
  {
   "cell_type": "code",
   "execution_count": null,
   "id": "89703233-47c3-4f1f-aecc-1d35a72779de",
   "metadata": {
    "colab": {
     "base_uri": "https://localhost:8080/"
    },
    "id": "89703233-47c3-4f1f-aecc-1d35a72779de",
    "outputId": "5c771bdb-c267-4133-86cc-5b312af056c3",
    "tags": []
   },
   "outputs": [],
   "source": [
    "threshold_churn2 = percentile_75th_recency + 365\n",
    "rfm_B2C['Churn'] = rfm_B2C.apply(define_churn2, args=(threshold_churn2,), axis=1)\n",
    "\n",
    "rfm_B2C[\"Churn\"].value_counts()[1]/rfm_B2C.count()"
   ]
  },
  {
   "cell_type": "code",
   "execution_count": null,
   "id": "196f161f-c2a6-40f8-b636-c903a11e783f",
   "metadata": {
    "id": "196f161f-c2a6-40f8-b636-c903a11e783f"
   },
   "outputs": [],
   "source": [
    "# 1 if the customer is considered churned, 0 otherwise"
   ]
  },
  {
   "cell_type": "code",
   "execution_count": null,
   "id": "1dd86cf2-c9a0-45c3-bc45-fb97871d5d53",
   "metadata": {
    "colab": {
     "base_uri": "https://localhost:8080/"
    },
    "id": "1dd86cf2-c9a0-45c3-bc45-fb97871d5d53",
    "outputId": "81514d23-af15-469b-b4b7-527fda6dcb0b",
    "tags": []
   },
   "outputs": [],
   "source": [
    "rfm_B2B[\"Churn\"].value_counts(), rfm_B2C[\"Churn\"].value_counts()"
   ]
  },
  {
   "cell_type": "code",
   "execution_count": null,
   "id": "yK8XpHPSbj0W",
   "metadata": {
    "id": "yK8XpHPSbj0W"
   },
   "outputs": [],
   "source": []
  },
  {
   "cell_type": "code",
   "execution_count": null,
   "id": "xvcrImyebj3q",
   "metadata": {
    "id": "xvcrImyebj3q"
   },
   "outputs": [],
   "source": []
  },
  {
   "cell_type": "markdown",
   "id": "U_rHsxVXblfy",
   "metadata": {
    "id": "U_rHsxVXblfy"
   },
   "source": [
    "## New columns from the transaction dataset to create the churn prediction model"
   ]
  },
  {
   "cell_type": "markdown",
   "id": "I5EKgz2btOip",
   "metadata": {
    "id": "I5EKgz2btOip"
   },
   "source": [
    "### Channel data"
   ]
  },
  {
   "cell_type": "code",
   "execution_count": null,
   "id": "nkiyAtdHbkAq",
   "metadata": {
    "id": "nkiyAtdHbkAq"
   },
   "outputs": [],
   "source": [
    "df = pd.get_dummies(df, columns=[\"order_channel\"])"
   ]
  },
  {
   "cell_type": "code",
   "execution_count": null,
   "id": "ZsMpufCtbkJ6",
   "metadata": {
    "colab": {
     "base_uri": "https://localhost:8080/"
    },
    "id": "ZsMpufCtbkJ6",
    "outputId": "0901aa0b-b283-4a70-bd3e-19aa767dee64"
   },
   "outputs": [],
   "source": [
    "\n",
    "order_channel_columns = ['order_channel_at the store', 'order_channel_by phone', 'order_channel_during the visit of a sales rep', 'order_channel_online', 'order_channel_other']\n",
    "\n",
    "\n",
    "channel_counts_by_client = df.groupby('client_id')[order_channel_columns].sum()\n",
    "\n",
    "channel_counts_by_client\n"
   ]
  },
  {
   "cell_type": "code",
   "execution_count": null,
   "id": "sIk5CQ0_bkM8",
   "metadata": {
    "id": "sIk5CQ0_bkM8"
   },
   "outputs": [],
   "source": [
    "B2C_df = rfm_B2C.merge(channel_counts_by_client, on='client_id', how='left')"
   ]
  },
  {
   "cell_type": "code",
   "execution_count": null,
   "id": "uNSNk4HebzZQ",
   "metadata": {
    "id": "uNSNk4HebzZQ"
   },
   "outputs": [],
   "source": [
    "B2B_df = rfm_B2B.merge(channel_counts_by_client, on='client_id', how='left')"
   ]
  },
  {
   "cell_type": "code",
   "execution_count": null,
   "id": "FlKcOVVomUMQ",
   "metadata": {
    "colab": {
     "base_uri": "https://localhost:8080/"
    },
    "id": "FlKcOVVomUMQ",
    "outputId": "981ae0f1-3c32-40a9-ee88-10ebfd99d81a"
   },
   "outputs": [],
   "source": [
    "B2C_df"
   ]
  },
  {
   "cell_type": "code",
   "execution_count": null,
   "id": "5bwpUalbbzjG",
   "metadata": {
    "id": "5bwpUalbbzjG"
   },
   "outputs": [],
   "source": [
    "B2C_df= B2C_df.drop([ \"recency_score\",\t\"frequency_score\",\t\"monetary_score\",\t\"RFM_SCORE\",  \"Client_Type\"],axis=1)\n",
    "B2B_df= B2B_df.drop([\"recency_score\",\t\"frequency_score\",\t\"monetary_score\",\t\"RFM_SCORE\", \"Client_Type\"],axis=1)"
   ]
  },
  {
   "cell_type": "code",
   "execution_count": null,
   "id": "nZhv1hJamtB9",
   "metadata": {
    "colab": {
     "base_uri": "https://localhost:8080/"
    },
    "id": "nZhv1hJamtB9",
    "outputId": "fe66d045-f2e2-43b7-f487-8f0a07dfd4a5"
   },
   "outputs": [],
   "source": [
    "B2C_df"
   ]
  },
  {
   "cell_type": "markdown",
   "id": "uBimcrw3tStZ",
   "metadata": {
    "id": "uBimcrw3tStZ"
   },
   "source": [
    "### Branch data"
   ]
  },
  {
   "cell_type": "code",
   "execution_count": null,
   "id": "9c857cba-2dc2-4bdc-ae86-1efbf3fc33f5",
   "metadata": {
    "id": "9c857cba-2dc2-4bdc-ae86-1efbf3fc33f5",
    "tags": []
   },
   "outputs": [],
   "source": [
    "branch_counts = df.groupby('client_id')['branch_id'].nunique().reset_index(name='branch_count')\n",
    "\n",
    "\n",
    "branch_counts.columns = ['client_id', 'branch_count']\n",
    "\n",
    "\n",
    "B2B_df = B2B_df.merge(branch_counts, on='client_id', how='left')\n",
    "B2C_df = B2C_df.merge(branch_counts, on='client_id', how='left')"
   ]
  },
  {
   "cell_type": "code",
   "execution_count": null,
   "id": "q932_gRIt7A2",
   "metadata": {
    "colab": {
     "base_uri": "https://localhost:8080/",
     "height": 423
    },
    "id": "q932_gRIt7A2",
    "outputId": "0db4c07f-57fc-4e2b-ace7-86ead8b96690"
   },
   "outputs": [],
   "source": [
    "B2C_df"
   ]
  },
  {
   "cell_type": "code",
   "execution_count": null,
   "id": "86dd3b3d-25b6-4c9e-8d51-826090ed0b50",
   "metadata": {
    "id": "86dd3b3d-25b6-4c9e-8d51-826090ed0b50"
   },
   "outputs": [],
   "source": [
    "branch_usage = df.groupby(['client_id', 'branch_id']).size().reset_index(name='usage_count')\n",
    "\n",
    "\n",
    "branch_usage = branch_usage.sort_values(['client_id', 'usage_count'], ascending=[True, False])\n",
    "\n",
    "\n",
    "most_used_branches = branch_usage.drop_duplicates(subset='client_id', keep='first')\n",
    "\n",
    "\n",
    "most_used_branches = most_used_branches[['client_id', 'branch_id']]\n",
    "\n",
    "\n",
    "most_used_branches.rename(columns={'branch_id': 'most_used_branch'}, inplace=True)\n",
    "\n",
    "B2B_df = B2B_df.merge(most_used_branches, on='client_id', how='left')\n",
    "B2C_df = B2C_df.merge(most_used_branches, on='client_id', how='left')"
   ]
  },
  {
   "cell_type": "code",
   "execution_count": null,
   "id": "fe99d8a2-43c1-4429-a67e-c21fc0e46520",
   "metadata": {
    "colab": {
     "base_uri": "https://localhost:8080/",
     "height": 423
    },
    "id": "fe99d8a2-43c1-4429-a67e-c21fc0e46520",
    "outputId": "66a32917-e925-4f7b-b559-dcc37947342c",
    "tags": []
   },
   "outputs": [],
   "source": [
    "B2C_df"
   ]
  },
  {
   "cell_type": "code",
   "execution_count": null,
   "id": "h7Vxlwezu8Sf",
   "metadata": {
    "colab": {
     "base_uri": "https://localhost:8080/",
     "height": 423
    },
    "id": "h7Vxlwezu8Sf",
    "outputId": "7d77138f-fc91-4204-9e6f-c8e415037bf9"
   },
   "outputs": [],
   "source": [
    "B2B_df"
   ]
  },
  {
   "cell_type": "markdown",
   "id": "xYGlhZuYujfT",
   "metadata": {
    "id": "xYGlhZuYujfT"
   },
   "source": [
    "## Check null values"
   ]
  },
  {
   "cell_type": "code",
   "execution_count": null,
   "id": "c6e9d772-51c1-43da-8fd3-b2d52b62bedb",
   "metadata": {
    "colab": {
     "base_uri": "https://localhost:8080/"
    },
    "id": "c6e9d772-51c1-43da-8fd3-b2d52b62bedb",
    "outputId": "3d51966f-fd26-438d-a06b-a76d7a715bb9",
    "tags": []
   },
   "outputs": [],
   "source": [
    "B2B_df[B2B_df.isna()].any()\n"
   ]
  },
  {
   "cell_type": "code",
   "execution_count": null,
   "id": "13bdf78a-5344-4514-8096-e1dbb00182ac",
   "metadata": {
    "colab": {
     "base_uri": "https://localhost:8080/"
    },
    "id": "13bdf78a-5344-4514-8096-e1dbb00182ac",
    "outputId": "7364c094-01eb-4a90-865d-e72f494278a2",
    "tags": []
   },
   "outputs": [],
   "source": [
    "B2C_df.isnull().sum()"
   ]
  },
  {
   "cell_type": "code",
   "execution_count": null,
   "id": "DtaFZ2Vv1akG",
   "metadata": {
    "colab": {
     "base_uri": "https://localhost:8080/"
    },
    "id": "DtaFZ2Vv1akG",
    "outputId": "8299f593-2092-4829-975c-1203e0604b1a"
   },
   "outputs": [],
   "source": [
    "B2C_df.info()"
   ]
  },
  {
   "cell_type": "code",
   "execution_count": null,
   "id": "zbLaUa0xvEjo",
   "metadata": {
    "id": "zbLaUa0xvEjo"
   },
   "outputs": [],
   "source": [
    "B2C_df['client_id'] = B2C_df['client_id'].astype(str)\n",
    "B2C_df['most_used_branch'] = B2C_df['most_used_branch'].astype(str)"
   ]
  },
  {
   "cell_type": "code",
   "execution_count": null,
   "id": "Vs1AThAivhiP",
   "metadata": {
    "id": "Vs1AThAivhiP"
   },
   "outputs": [],
   "source": [
    "B2C_df= B2C_df.drop([\"Recency\"],axis=1)\n",
    "B2B_df= B2B_df.drop([\"Recency\"],axis=1)"
   ]
  },
  {
   "cell_type": "markdown",
   "id": "PsMsRbNWvAPx",
   "metadata": {
    "id": "PsMsRbNWvAPx"
   },
   "source": [
    "# Save the datasets in csv"
   ]
  },
  {
   "cell_type": "code",
   "execution_count": null,
   "id": "Yf7AHOEX3TEe",
   "metadata": {
    "id": "Yf7AHOEX3TEe"
   },
   "outputs": [],
   "source": [
    "# Save the DataFrame to a CSV file in Google Drive\n",
    "B2B_df.to_csv('/content/drive/My Drive/B2B_df.csv', index=False)\n"
   ]
  },
  {
   "cell_type": "code",
   "execution_count": null,
   "id": "Ocrx9rFjnDaz",
   "metadata": {
    "id": "Ocrx9rFjnDaz"
   },
   "outputs": [],
   "source": [
    "B2C_df.to_csv('/content/drive/My Drive/B2C_df.csv', index=False)\n"
   ]
  }
 ],
 "metadata": {
  "accelerator": "GPU",
  "colab": {
   "collapsed_sections": [
    "I4cyuhM0pKLf",
    "mabzUs913LZf",
    "I5EKgz2btOip"
   ],
   "gpuType": "T4",
   "machine_shape": "hm",
   "provenance": []
  },
  "kernelspec": {
   "display_name": "Python 3 (ipykernel)",
   "language": "python",
   "name": "python3"
  },
  "language_info": {
   "codemirror_mode": {
    "name": "ipython",
    "version": 3
   },
   "file_extension": ".py",
   "mimetype": "text/x-python",
   "name": "python",
   "nbconvert_exporter": "python",
   "pygments_lexer": "ipython3",
   "version": "3.11.4"
  }
 },
 "nbformat": 4,
 "nbformat_minor": 5
}
