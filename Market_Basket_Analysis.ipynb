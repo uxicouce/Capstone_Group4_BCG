{
 "cells": [
  {
   "cell_type": "markdown",
   "id": "b1641a36-72a2-44f9-abf7-51b942e29044",
   "metadata": {},
   "source": [
    "# Market Basket Analysis"
   ]
  },
  {
   "cell_type": "code",
   "execution_count": null,
   "id": "3c312d27-2e07-416f-9e5f-ab0ca13c0d48",
   "metadata": {
    "tags": []
   },
   "outputs": [],
   "source": [
    "!pip install networkx matplotlib\n",
    "!pip install mlxtend\n",
    "import pandas as pd\n",
    "import numpy as np\n",
    "import matplotlib.pyplot as plt\n",
    "import seaborn as sns\n",
    "from mlxtend.frequent_patterns import apriori, association_rules\n",
    "from mlxtend.preprocessing import TransactionEncoder\n",
    "from pandas.plotting import parallel_coordinates\n",
    "import networkx as nx\n",
    "import matplotlib.pyplot as plt"
   ]
  },
  {
   "cell_type": "markdown",
   "id": "67a270c0-20e7-4a8c-95c0-883fcf570f64",
   "metadata": {},
   "source": [
    "# Data Preparation"
   ]
  },
  {
   "cell_type": "code",
   "execution_count": null,
   "id": "92b92f6d-9d2b-471a-aed4-da7c2448c943",
   "metadata": {
    "tags": []
   },
   "outputs": [],
   "source": [
    "df = pd.read_csv(\"transactions_dataset.csv\",  sep=';')"
   ]
  },
  {
   "cell_type": "code",
   "execution_count": null,
   "id": "ee0f3dcf-a94c-44d2-a0c6-194a52ebaa50",
   "metadata": {
    "tags": []
   },
   "outputs": [],
   "source": [
    "df['date_order'] = pd.to_datetime(df['date_order'])  # Convert the column to datetime format\n",
    "df['date_invoice'] = pd.to_datetime(df['date_invoice'])\n",
    "\n",
    "# Get the maximum and minimum dates\n",
    "max_date = df['date_order'].max()\n",
    "min_date = df['date_order'].min()\n",
    "\n",
    "print(\"Maximum Date:\", max_date)\n",
    "print(\"Minimum Date:\", min_date)"
   ]
  },
  {
   "cell_type": "code",
   "execution_count": null,
   "id": "346c3178-7219-415d-8acc-0731285b10d9",
   "metadata": {
    "tags": []
   },
   "outputs": [],
   "source": [
    "df['client_id'] = df['client_id'].astype(str)\n",
    "df['product_id'] = df['product_id'].astype(str)\n",
    "df['branch_id'] = df['branch_id'].astype(str)"
   ]
  },
  {
   "cell_type": "code",
   "execution_count": null,
   "id": "54cf7ef2-2901-4440-aa04-784642ad2ee2",
   "metadata": {
    "tags": []
   },
   "outputs": [],
   "source": [
    "df = df.sort_values(by='date_order')"
   ]
  },
  {
   "cell_type": "code",
   "execution_count": null,
   "id": "89ae1a73-daed-46c9-8d1b-20d67528a5ac",
   "metadata": {
    "tags": []
   },
   "outputs": [],
   "source": [
    "transactions = df.groupby('client_id')['product_id'].apply(list).tolist()"
   ]
  },
  {
   "cell_type": "code",
   "execution_count": null,
   "id": "fb4f15ac-0eff-4e03-9a5a-9c0bf2fbf124",
   "metadata": {
    "tags": []
   },
   "outputs": [],
   "source": [
    "df.head()"
   ]
  },
  {
   "cell_type": "markdown",
   "id": "b5d17dec-cb83-49b7-be95-b76af1341ab8",
   "metadata": {},
   "source": [
    "# Association Rules Analysis"
   ]
  },
  {
   "cell_type": "code",
   "execution_count": null,
   "id": "715ca624-3368-4adf-bc93-e72170469e3d",
   "metadata": {
    "tags": []
   },
   "outputs": [],
   "source": [
    "item_counts = df['product_id'].value_counts()\n",
    "frequent_items = item_counts[item_counts >= len(df) * 0.005].index\n",
    "filtered_transactions = [[item for item in t if item in frequent_items] for t in transactions]\n"
   ]
  },
  {
   "cell_type": "code",
   "execution_count": null,
   "id": "4f70cf0a-0364-46c0-b082-c43f3be364c8",
   "metadata": {
    "tags": []
   },
   "outputs": [],
   "source": [
    "# Transaction Encoding\n",
    "te = TransactionEncoder()\n",
    "te_ary = te.fit(filtered_transactions).transform(filtered_transactions)\n",
    "df = pd.DataFrame(te_ary, columns=te.columns_)\n",
    "\n",
    "frequent_itemsets = apriori(df, min_support=0.1, use_colnames=True)\n",
    "rules = association_rules(frequent_itemsets, metric=\"lift\", min_threshold=1)\n",
    "rules.sort_values(['confidence', 'lift'], ascending=[False, False])"
   ]
  },
  {
   "cell_type": "markdown",
   "id": "b6ace305-0c32-4a1a-a24e-bf2dff1ec9e3",
   "metadata": {},
   "source": [
    "Insight 1: High-Value Product Combinations\n",
    "Observation: Rule #83 shows a strong association between items 3000784, 1895362, 1390401, and 1366829, with a high confidence of 88.9% and a lift of 2.62. This indicates not only a strong likelihood of these items being purchased together but also that their combination is more frequent than would be expected if they were bought independently.\n",
    "\n",
    "Conclusion: These items form a high-value combination that customers are likely to buy together. This could be due to complementary usage or a common customer need that these products collectively fulfill.\n",
    "\n",
    "Insight 2: Strategic Product Placement\n",
    "Observation: The rules show specific item combinations with high lift values, indicating that certain products are much more likely to be bought together than others. For example, Rule #80 suggests that when items 1366829, 3000784, and 1895362 are bought, item 1390401 is also likely to be purchased, with a lift of 2.81.\n",
    "\n",
    "Conclusion: Consider strategic product placement both in physical stores and online platforms. Placing these items closer together or suggesting them as add-ons during the online checkout process could increase basket size and overall sales.\n",
    "\n",
    "Insight 3: Targeted Promotions\n",
    "Observation: Items with strong associations, as identified in the rules, provide an excellent opportunity for targeted promotions. For example, offering discounts on less frequently bought items (consequents) when customers purchase popular items (antecedents) could boost the sales of the former.\n",
    "\n",
    "Conclusion: Use the identified item associations to craft targeted promotional campaigns. For instance, if purchasing item 3000784 has a strong association with purchasing item 1366829, offering a discount on 1366829 when 3000784 is purchased could incentivize increased sales of both.\n",
    "\n",
    "Insight 4: Inventory Management\n",
    "Observation: The support values indicate the frequency of itemsets being bought together. Higher support values, such as for the combinations in Rules #83 and #34, suggest these items are popular and frequently purchased together.\n",
    "\n",
    "Conclusion: Inventory management can be optimized based on these insights. Ensure that high-demand items identified in these rules are well-stocked to meet customer demand, especially when promotional activities are planned.\n",
    "\n",
    "Insight 5: Understanding Customer Preferences\n",
    "Observation: The combination of items in these rules suggests that certain products are consistently preferred by customers when purchased together. This pattern could reflect underlying customer preferences or the complementary nature of the products.\n",
    "\n",
    "Conclusion: Analyze the characteristics or features of these frequently bought-together items to understand customer preferences better. This understanding can guide new product development, adjustments in product offerings, and personalized marketing messages.\n",
    "\n",
    "Presenting to the Client:\n",
    "When presenting these results to your client, focus on how these insights can drive actionable strategies:\n",
    "\n",
    "Promotions: Highlight how targeted promotions based on these rules can increase cross-selling opportunities.\n",
    "Product Placement: Discuss the potential for increased sales through strategic product placement both in-store and online.\n",
    "Inventory Optimization: Suggest inventory adjustments based on the popularity and association strength of certain item combinations.\n",
    "Customer Insights: Emphasize how understanding product associations can reveal deeper insights into customer preferences, guiding future product and marketing strategies."
   ]
  },
  {
   "cell_type": "markdown",
   "id": "210848a5-c2eb-4f88-b5b3-08d898cf6b6e",
   "metadata": {},
   "source": [
    "# Market BAsket Graph"
   ]
  },
  {
   "cell_type": "code",
   "execution_count": null,
   "id": "59bf307a-c0e3-4466-876b-4e93e8ceb1e7",
   "metadata": {
    "tags": []
   },
   "outputs": [],
   "source": [
    "G = nx.DiGraph()\n",
    "for _, row in rules.iterrows():\n",
    "    antecedents = tuple(row['antecedents'])\n",
    "    consequents = tuple(row['consequents'])\n",
    "    lift = row['lift']\n",
    "    \n",
    "    edge_width = lift * 0.1  \n",
    "    \n",
    "    # Add nodes and edges to the graph\n",
    "    G.add_node(antecedents, label=antecedents)\n",
    "    G.add_node(consequents, label=consequents)\n",
    "    G.add_edge(antecedents, consequents, weight=edge_width)\n",
    "\n",
    "plt.figure(figsize=(12, 12))\n",
    "pos = nx.spring_layout(G, k=0.5, iterations=20)\n",
    "edge_widths = [G[u][v]['weight'] for u,v in G.edges()]\n",
    "\n",
    "nx.draw_networkx_nodes(G, pos, node_size=7000, node_color='skyblue', alpha=0.6)\n",
    "nx.draw_networkx_edges(G, pos, width=edge_widths, alpha=0.5, edge_color='gray')\n",
    "nx.draw_networkx_labels(G, pos, labels={node:node for node in G.nodes()}, font_size=10)\n",
    "\n",
    "plt.title(\"Item Association Rules Graph\")\n",
    "plt.axis('off')\n",
    "plt.show()\n"
   ]
  },
  {
   "cell_type": "markdown",
   "id": "c9d084d9-f04d-4451-96f0-9ff232068bb9",
   "metadata": {},
   "source": [
    "In our Market Basket Analysis, we've constructed an Item Association Rules Graph that vividly illustrates the purchasing patterns and relationships between different products. Each node in the graph represents a set of items commonly bought together, and the edges denote the strength of the association between these item sets. The width of the edges is proportional to the 'lift' metric from our analysis – a measure of how much more often the item sets are purchased together than we would expect if they were statistically independent. In practical terms, this graph helps us identify 'cross-selling' opportunities. "
   ]
  },
  {
   "cell_type": "markdown",
   "id": "6f1189cc-951e-4d2e-9e7c-04e4fbb95f2f",
   "metadata": {},
   "source": [
    "\"In our Market Basket Analysis graph, each node represents a cluster of items that customers often purchase together. For instance, the node labeled ('1366829', '2512504') could represent customers who frequently buy item 1366829 (let’s say, 'Organic Bananas') and item 2512504 ('Almond Milk') in the same transaction. The proximity of nodes in the graph's center, such as ('3000784', '1895362', '1390401'), suggests a strong and central interconnection in the purchasing patterns. This indicates that these items, perhaps 'Coffee', 'Whole Wheat Bread', and 'Butter', are not only commonly purchased together, but they may also be pivotal items that connect to many other purchase combinations within our store.\n",
    "\n",
    "Edges between nodes, depicted with varying widths, represent the 'lift' of the association rule. A wider edge means a higher lift value, which implies a stronger than expected likelihood that the connected items are bought together. This can be seen clearly in the dense center of the graph, where a web of strong connections suggests a core group of products that are highly interrelated in customer purchases.\n",
    "\n",
    "The strategic placement of these core items could potentially influence shopping behavior and increase basket sizes. For example, placing 'Coffee' near 'Whole Wheat Bread' might encourage customers who came for bread to remember they also need coffee, increasing the chance of a combined purchase.\n",
    "\n",
    "Additionally, the graph provides insights for promotional strategies. Items on the periphery with thinner connecting edges might benefit from targeted promotions to increase their association strength with central items, driving their sales up.\""
   ]
  },
  {
   "cell_type": "markdown",
   "id": "0aefa3de-fc04-442c-a61d-44dc42c0cf3d",
   "metadata": {},
   "source": [
    "# Lift Correlation Analysis"
   ]
  },
  {
   "cell_type": "code",
   "execution_count": null,
   "id": "08929770-2985-4d9d-8dc1-dd815ad7fe3e",
   "metadata": {
    "tags": []
   },
   "outputs": [],
   "source": [
    "# Lift Correlation Analysis\n",
    "rules['antecedents_str'] = rules['antecedents'].apply(lambda x: ', '.join(list(x)))\n",
    "rules['consequents_str'] = rules['consequents'].apply(lambda x: ', '.join(list(x)))\n",
    "\n",
    "pivot = rules.pivot(\"antecedents_str\", \"consequents_str\", \"lift\")\n",
    "pivot.fillna(0, inplace=True)\n",
    "\n",
    "plt.figure(figsize=(10, 8))\n",
    "sns.heatmap(pivot, annot=True, cmap=\"YlGnBu\")\n",
    "plt.title(\"Heatmap of Lift Values for Item Associations\")\n",
    "plt.show()\n"
   ]
  },
  {
   "cell_type": "markdown",
   "id": "c98f90fe-4503-4e90-a335-af910ad75e9d",
   "metadata": {},
   "source": [
    "# Support vs Confidence Analysis"
   ]
  },
  {
   "cell_type": "code",
   "execution_count": null,
   "id": "14b9abd1-b618-4f04-bc1f-ccd2f18ee8bf",
   "metadata": {
    "tags": []
   },
   "outputs": [],
   "source": [
    "rules['antecedents_str'] = rules['antecedents'].apply(lambda x: ', '.join(map(str, list(x))))\n",
    "rules['consequents_str'] = rules['consequents'].apply(lambda x: ', '.join(map(str, list(x))))\n",
    "rules['rule'] = rules['antecedents_str'] + \" -> \" + rules['consequents_str']"
   ]
  },
  {
   "cell_type": "code",
   "execution_count": null,
   "id": "8b7cd12d-1c0b-427e-aef2-a70f32cdc8a3",
   "metadata": {
    "tags": []
   },
   "outputs": [],
   "source": [
    "plt.figure(figsize=(10, 6))\n",
    "sns.scatterplot(data=rules, x='support', y='confidence', size='lift', hue='lift', sizes=(20, 200), alpha=0.6, palette=\"viridis\")\n",
    "plt.title('Association Rules: Support vs. Confidence (Bubble Size = Lift)')\n",
    "plt.legend(bbox_to_anchor=(1.05, 1), loc='upper left')\n",
    "plt.show()\n"
   ]
  }
 ],
 "metadata": {
  "kernelspec": {
   "display_name": "Python 3 (ipykernel)",
   "language": "python",
   "name": "python3"
  },
  "language_info": {
   "codemirror_mode": {
    "name": "ipython",
    "version": 3
   },
   "file_extension": ".py",
   "mimetype": "text/x-python",
   "name": "python",
   "nbconvert_exporter": "python",
   "pygments_lexer": "ipython3",
   "version": "3.10.9"
  }
 },
 "nbformat": 4,
 "nbformat_minor": 5
}
