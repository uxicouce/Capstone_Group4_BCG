{
 "cells": [
  {
   "cell_type": "code",
   "execution_count": null,
   "id": "15069a57-a4d6-4f51-ba3d-fcfafdfff9b6",
   "metadata": {},
   "outputs": [],
   "source": [
    "import pandas as pd\n",
    "import numpy as np\n",
    "import matplotlib.pyplot as plt\n",
    "import seaborn as sns\n",
    "from scipy import stats\n",
    "from statsmodels.tsa.seasonal import seasonal_decompose\n",
    "from sklearn.preprocessing import StandardScaler\n",
    "from sklearn.model_selection import train_test_split\n",
    "from sklearn.linear_model import LinearRegression\n",
    "from sklearn.ensemble import RandomForestClassifier\n",
    "from sklearn.metrics import accuracy_score, classification_report\n",
    "from sklearn.metrics import r2_score, mean_absolute_error, mean_squared_error"
   ]
  },
  {
   "cell_type": "markdown",
   "id": "10aacaa3-bf4f-4158-84dd-39f612368ff2",
   "metadata": {},
   "source": [
    "# Pre-processing"
   ]
  },
  {
   "cell_type": "code",
   "execution_count": null,
   "id": "f4aa16ad-bfbb-463e-b923-0ea5356a960f",
   "metadata": {},
   "outputs": [],
   "source": [
    "# Read the first few lines to inspect the file structure\n",
    "file_path = 'transactions_dataset.csv'\n",
    "sample = pd.read_csv(file_path, nrows=10)\n",
    "\n",
    "# Display the sample\n",
    "print(sample.head())\n"
   ]
  },
  {
   "cell_type": "code",
   "execution_count": null,
   "id": "18d86538-ded8-495b-ae58-06b1c75415a0",
   "metadata": {},
   "outputs": [],
   "source": [
    "file_path = 'transactions_dataset.csv'\n",
    "\n",
    "chunk_size = 100000  # Adjust this based on your available memory\n",
    "chunks_list = []\n",
    "for chunk in pd.read_csv(file_path, delimiter=';', chunksize=chunk_size, dtype=str):\n",
    "\n",
    "    # Convert any numerical columns to the correct dtype\n",
    "    for col in ['sales_net', 'quantity']:\n",
    "        chunk[col] = pd.to_numeric(chunk[col], errors='coerce', downcast='float')\n",
    "\n",
    "    # Convert any date columns to the correct dtype\n",
    "    for col in ['date_order', 'date_invoice']:\n",
    "        chunk[col] = pd.to_datetime(chunk[col], errors='coerce')\n",
    "\n",
    "    # One-hot encode categorical variables\n",
    "    chunk = pd.get_dummies(chunk, columns=['order_channel'])\n",
    "\n",
    "    # Append the processed chunk to the list\n",
    "    chunks_list.append(chunk)\n",
    "\n",
    "# Concatenate all processed chunks\n",
    "data_df_processed = pd.concat(chunks_list, ignore_index=True)\n",
    "\n",
    "data_df_processed.head()\n"
   ]
  },
  {
   "cell_type": "code",
   "execution_count": null,
   "id": "8e7f2b46-c667-4fd3-864c-8108b9c56b97",
   "metadata": {},
   "outputs": [],
   "source": [
    "# Define the output file path for the entire DataFrame\n",
    "output_file_path = 'data_df_processed_full.csv'\n",
    "\n",
    "# Save the entire DataFrame to a CSV file\n",
    "data_df_processed.to_csv(output_file_path, index=False)\n"
   ]
  },
  {
   "cell_type": "code",
   "execution_count": null,
   "id": "04ed17f1-6632-4dcc-b312-724f7b91bfe9",
   "metadata": {},
   "outputs": [],
   "source": [
    "# Group by client_id and sum up sales_net to calculate LTV\n",
    "client_ltv = data_df_processed.groupby('client_id')['sales_net'].sum().rename('LTV').reset_index()"
   ]
  },
  {
   "cell_type": "code",
   "execution_count": null,
   "id": "4179535e-4197-49e1-956c-1a81bc70f80a",
   "metadata": {},
   "outputs": [],
   "source": [
    "# Merge LTV back to the original dataset\n",
    "data_df_processed = pd.merge(data_df_processed, client_ltv, on='client_id', how='left')"
   ]
  },
  {
   "cell_type": "code",
   "execution_count": null,
   "id": "400e7270-fbd8-41b2-9e54-99cc25f65907",
   "metadata": {},
   "outputs": [],
   "source": [
    "# Feature engineering: Calculate the time since the last purchase\n",
    "latest_date = data_df_processed['date_order'].max()\n",
    "data_df_processed['days_since_last_purchase'] = (latest_date - data_df_processed['date_order']).dt.days"
   ]
  },
  {
   "cell_type": "code",
   "execution_count": null,
   "id": "04a563e6-b72a-4550-8a0e-32cae4cf43f3",
   "metadata": {},
   "outputs": [],
   "source": [
    "# Scaling numerical variables\n",
    "scaler = StandardScaler()\n",
    "data_df_processed[['sales_net', 'quantity']] = scaler.fit_transform(data_df_processed[['sales_net', 'quantity']])"
   ]
  },
  {
   "cell_type": "code",
   "execution_count": null,
   "id": "affbe0f8-7791-465e-afee-571c07614203",
   "metadata": {},
   "outputs": [],
   "source": [
    "# Extract date parts\n",
    "data_df_processed['order_year'] = data_df_processed['date_order'].dt.year\n",
    "data_df_processed['order_month'] = data_df_processed['date_order'].dt.month\n",
    "data_df_processed['order_weekday'] = data_df_processed['date_order'].dt.weekday"
   ]
  },
  {
   "cell_type": "code",
   "execution_count": null,
   "id": "a45a9bdd-fcea-48cb-b521-f8033228476c",
   "metadata": {},
   "outputs": [],
   "source": [
    "output_file_path = 'processed_transactions_dataset.csv'\n",
    "data_df_processed.to_csv(output_file_path, index=False)"
   ]
  },
  {
   "cell_type": "code",
   "execution_count": null,
   "id": "ff336238-3a56-461d-a845-3dc79b75b162",
   "metadata": {},
   "outputs": [],
   "source": [
    "data_df_processed.head()"
   ]
  },
  {
   "cell_type": "markdown",
   "id": "3b948f4a-166a-4df6-b5a1-c0a725baf7e8",
   "metadata": {},
   "source": [
    "# Sales Analysis"
   ]
  },
  {
   "cell_type": "code",
   "execution_count": null,
   "id": "f10c4db2-9d73-4607-931c-6fbf08cc2d0b",
   "metadata": {},
   "outputs": [],
   "source": [
    "sns.set(style=\"whitegrid\")\n",
    "\n",
    "# 1. Distribution of Customer Lifetime Value (LTV)\n",
    "plt.figure(figsize=(10, 6))\n",
    "sns.histplot(data_df_processed_full['LTV'], bins=50, kde=True)\n",
    "plt.title('Distribution of Customer Lifetime Value (LTV)')\n",
    "plt.xlabel('LTV')\n",
    "plt.ylabel('Frequency')\n",
    "plt.show()\n",
    "\n",
    "# 2. Sales Over Time (Year, Month)\n",
    "\n",
    "data_df_processed_full['year_month'] = data_df_processed_full['order_year'].astype(str) + '-' + data_df_processed_full['order_month'].astype(str)\n",
    "sales_over_time = data_df_processed_full.groupby('year_month')['sales_net'].sum().reset_index()\n",
    "\n",
    "plt.figure(figsize=(14, 7))\n",
    "sns.lineplot(x='year_month', y='sales_net', data=sales_over_time)\n",
    "plt.title('Sales Over Time')\n",
    "plt.xlabel('Year and Month')\n",
    "plt.ylabel('Total Sales')\n",
    "plt.xticks(rotation=45)\n",
    "plt.show()\n",
    "\n"
   ]
  },
  {
   "cell_type": "code",
   "execution_count": null,
   "id": "b4adce4d-5048-43d2-a2cb-8ed4ef67be00",
   "metadata": {},
   "outputs": [],
   "source": [
    "for channel in ['order_channel_at the store', 'order_channel_by phone', 'order_channel_during the visit of a sales rep', \n",
    "                'order_channel_online', 'order_channel_other']:\n",
    "    # Create new columns for total sales and quantity for each order channel\n",
    "    data_df_processed_full[channel + '_total_sales'] = data_df_processed_full[channel] * data_df_processed_full['sales_net']\n",
    "    data_df_processed_full[channel + '_total_quantity'] = data_df_processed_full[channel] * data_df_processed_full['quantity']\n",
    "\n",
    "order_channel_avgs = pd.DataFrame({\n",
    "    'Channel': ['at the store', 'by phone', 'during the visit of a sales rep', 'online', 'other'],\n",
    "    'Avg Sales': [\n",
    "        data_df_processed_full['order_channel_at the store_total_sales'].sum() / data_df_processed_full['order_channel_at the store'].sum(),\n",
    "        data_df_processed_full['order_channel_by phone_total_sales'].sum() / data_df_processed_full['order_channel_by phone'].sum(),\n",
    "        data_df_processed_full['order_channel_during the visit of a sales rep_total_sales'].sum() / data_df_processed_full['order_channel_during the visit of a sales rep'].sum(),\n",
    "        data_df_processed_full['order_channel_online_total_sales'].sum() / data_df_processed_full['order_channel_online'].sum(),\n",
    "        data_df_processed_full['order_channel_other_total_sales'].sum() / data_df_processed_full['order_channel_other'].sum(),\n",
    "    ],\n",
    "    'Avg Quantity': [\n",
    "        data_df_processed_full['order_channel_at the store_total_quantity'].sum() / data_df_processed_full['order_channel_at the store'].sum(),\n",
    "        data_df_processed_full['order_channel_by phone_total_quantity'].sum() / data_df_processed_full['order_channel_by phone'].sum(),\n",
    "        data_df_processed_full['order_channel_during the visit of a sales rep_total_quantity'].sum() / data_df_processed_full['order_channel_during the visit of a sales rep'].sum(),\n",
    "        data_df_processed_full['order_channel_online_total_quantity'].sum() / data_df_processed_full['order_channel_online'].sum(),\n",
    "        data_df_processed_full['order_channel_other_total_quantity'].sum() / data_df_processed_full['order_channel_other'].sum(),\n",
    "    ]\n",
    "})\n",
    "\n",
    "# Plot the average sales by order channel\n",
    "plt.figure(figsize=(14, 7))\n",
    "sns.barplot(x='Channel', y='Avg Sales', data=order_channel_avgs)\n",
    "plt.title('Average Sales by Order Channel')\n",
    "plt.xlabel('Order Channel')\n",
    "plt.ylabel('Average Sales Net')\n",
    "plt.show()\n",
    "\n",
    "# Plot the average quantity by order channel\n",
    "plt.figure(figsize=(14, 7))\n",
    "sns.barplot(x='Channel', y='Avg Quantity', data=order_channel_avgs)\n",
    "plt.title('Average Quantity by Order Channel')\n",
    "plt.xlabel('Order Channel')\n",
    "plt.ylabel('Average Quantity')\n",
    "plt.show()\n"
   ]
  },
  {
   "cell_type": "markdown",
   "id": "6411434e-af3c-41d2-877b-06cc39936a3a",
   "metadata": {},
   "source": [
    "# Refund Analysis"
   ]
  },
  {
   "cell_type": "code",
   "execution_count": null,
   "id": "d3a3bf2d-8b70-4d19-8943-66e77b81aca4",
   "metadata": {},
   "outputs": [],
   "source": [
    "returns_or_refunds = data_df_processed_full[data_df_processed_full['sales_net'] < 0]\n",
    "\n",
    "negative_quantity = data_df_processed_full[data_df_processed_full['quantity'] < 0]"
   ]
  },
  {
   "cell_type": "code",
   "execution_count": null,
   "id": "2e6b38fe-6cf4-4bd8-be66-581f3c9b8b10",
   "metadata": {},
   "outputs": [],
   "source": [
    "# Looking for any large transactions that might be data entry errors\n",
    "quantity_threshold = 10000  # Example threshold for quantity\n",
    "sales_net_threshold = 10000  # Example threshold for sales_net\n",
    "potential_data_entry_errors = data_df_processed_full[\n",
    "    (data_df_processed_full['quantity'] > quantity_threshold) |\n",
    "    (data_df_processed_full['sales_net'] > sales_net_threshold)\n",
    "]"
   ]
  },
  {
   "cell_type": "code",
   "execution_count": null,
   "id": "b657c97a-894b-414c-9a8b-b5bc71c385dc",
   "metadata": {},
   "outputs": [],
   "source": [
    "# Looking for rows where 'sales_net' is negative but 'quantity' is positive, which could indicate discounts or adjustments\n",
    "discounts_and_adjustments = data_df_processed_full[\n",
    "    (data_df_processed_full['sales_net'] < 0) &\n",
    "    (data_df_processed_full['quantity'] > 0)\n",
    "]\n"
   ]
  },
  {
   "cell_type": "code",
   "execution_count": null,
   "id": "4b5a3bb9-2545-4bd8-a87c-bdf3aaf55a43",
   "metadata": {},
   "outputs": [],
   "source": [
    "returns_or_refunds.to_csv('returns_or_refunds.csv', index=False)\n",
    "negative_quantity.to_csv('negative_quantity.csv', index=False)\n",
    "potential_data_entry_errors.to_csv('potential_data_entry_errors.csv', index=False)\n",
    "discounts_and_adjustments.to_csv('discounts_and_adjustments.csv', index=False)"
   ]
  },
  {
   "cell_type": "code",
   "execution_count": null,
   "id": "c4515287-13e9-45cb-97d3-41bc2606f2e8",
   "metadata": {},
   "outputs": [],
   "source": [
    "print(f\"Returns or Refunds: {returns_or_refunds.shape[0]}\")\n",
    "print(f\"Negative Quantity: {negative_quantity.shape[0]}\")\n",
    "print(f\"Potential Data Entry Errors: {potential_data_entry_errors.shape[0]}\")\n",
    "print(f\"Discounts and Adjustments: {discounts_and_adjustments.shape[0]}\")"
   ]
  },
  {
   "cell_type": "code",
   "execution_count": null,
   "id": "0fb74234-e306-4d30-bd45-f199641ee4bb",
   "metadata": {},
   "outputs": [],
   "source": [
    "returns_or_refunds = pd.read_csv('returns_or_refunds.csv')\n",
    "negative_quantity = pd.read_csv('negative_quantity.csv')\n",
    "potential_data_entry_errors = pd.read_csv('potential_data_entry_errors.csv')\n",
    "discounts_and_adjustments = pd.read_csv('discounts_and_adjustments.csv')"
   ]
  },
  {
   "cell_type": "code",
   "execution_count": null,
   "id": "d94584ab-faf1-41f1-a0cc-c8647ce1167a",
   "metadata": {},
   "outputs": [],
   "source": [
    "sns.set_style('whitegrid')\n",
    "\n",
    "# Histogram of sales_net for returns or refunds\n",
    "plt.figure(figsize=(12, 6))\n",
    "sns.histplot(returns_or_refunds['sales_net'], bins=30, kde=False)\n",
    "plt.title('Distribution of Sales Net for Returns or Refunds')\n",
    "plt.xlabel('Sales Net')\n",
    "plt.ylabel('Frequency')\n",
    "plt.show()\n",
    "\n",
    "# Histogram of sales_net for discounts and adjustments\n",
    "plt.figure(figsize=(12, 6))\n",
    "sns.histplot(discounts_and_adjustments['sales_net'], bins=30, kde=False)\n",
    "plt.title('Distribution of Sales Net for Discounts and Adjustments')\n",
    "plt.xlabel('Sales Net')\n",
    "plt.ylabel('Frequency')\n",
    "plt.show()\n",
    "\n",
    "# Time Series plot for returns or refunds\n",
    "monthly_returns = returns_or_refunds.groupby('order_month')['sales_net'].sum()\n",
    "plt.figure(figsize=(14, 7))\n",
    "monthly_returns.plot(kind='bar')\n",
    "plt.title('Monthly Total Sales Net for Returns or Refunds')\n",
    "plt.xlabel('Month and Year')\n",
    "plt.ylabel('Total Sales Net')\n",
    "plt.xticks(rotation=90)\n",
    "plt.show()\n",
    "\n",
    "# Time Series plot for discounts and adjustments\n",
    "monthly_adjustments = discounts_and_adjustments.groupby('order_month')['sales_net'].sum()\n",
    "plt.figure(figsize=(14, 7))\n",
    "monthly_adjustments.plot(kind='bar', color='orange')\n",
    "plt.title('Monthly Total Sales Net for Discounts and Adjustments')\n",
    "plt.xlabel('Month and Year')\n",
    "plt.ylabel('Total Sales Net')\n",
    "plt.xticks(rotation=90)\n",
    "plt.show()\n",
    "\n",
    "# Boxplot to look for outliers and the spread of returns or refunds\n",
    "plt.figure(figsize=(12, 6))\n",
    "sns.boxplot(x='order_month', y='sales_net', data=returns_or_refunds)\n",
    "plt.title('Boxplot of Monthly Sales Net for Returns or Refunds')\n",
    "plt.xlabel('Month and Year')\n",
    "plt.ylabel('Sales Net')\n",
    "plt.xticks(rotation=90)\n",
    "plt.show()\n",
    "\n",
    "# Boxplot for discounts and adjustments\n",
    "plt.figure(figsize=(12, 6))\n",
    "sns.boxplot(x='order_month', y='sales_net', data=discounts_and_adjustments, color='orange')\n",
    "plt.title('Boxplot of Monthly Sales Net for Discounts and Adjustments')\n",
    "plt.xlabel('Month and Year')\n",
    "plt.ylabel('Sales Net')\n",
    "plt.xticks(rotation=90)\n",
    "plt.show()\n"
   ]
  },
  {
   "cell_type": "markdown",
   "id": "c10a8ab4-3e79-41b5-b02c-b8172027daf6",
   "metadata": {},
   "source": [
    "Graph analysis: \n",
    "- For the distribution analysis most values are near zero, meaning that the refunds and discounts are in general small amounts compare to the total sales net, the problem is that the volume of is very high given the frequency.\n",
    "\n",
    "Monthly Total Sales Net for Returns or Refunds:\n",
    "\n",
    "- The bar chart indicates the total negative sales_net per month due to returns or refunds.\n",
    "- The bars consistently show negative values each month, which could suggest a regular occurrence of returns or refunds.\n",
    "- The consistency in the monthly totals implies that the returns or refunds are a regular part of the business cycle.\n",
    "\n",
    "Monthly Total Sales Net for Discounts and Adjustments:\n",
    "\n",
    "- This bar chart shows the total negative sales_net per month due to discounts and adjustments.\n",
    "- Similar to returns and refunds, discounts and adjustments appear to be consistent month-to-month.\n",
    "\n",
    "Boxplot of Monthly Sales Net for Returns or Refunds and Boxplot of Monthly Sales Net for Discounts and Adjustments:\n",
    "\n",
    "- Both boxplots provide a visual summary of the distribution of sales_net values across different months.\n",
    "- The central line in each box represents the median value, which is consistently near zero but negative.\n",
    "- The 'whiskers' of the boxplot indicate the range of the data, and the points outside of the whiskers are potential outliers.\n",
    "- The presence of outliers suggests that there are some months with particularly large returns or discounts."
   ]
  },
  {
   "cell_type": "markdown",
   "id": "5ae9a99c-86be-42ed-9f2a-568394254b0c",
   "metadata": {},
   "source": [
    "# RFM Table Analysis"
   ]
  },
  {
   "cell_type": "code",
   "execution_count": null,
   "id": "8535910b-e03f-46e1-b944-5150d02c7d6f",
   "metadata": {},
   "outputs": [],
   "source": [
    "data_df_processed_full['date_order'] = pd.to_datetime(data_df_processed_full['date_order'], errors='coerce')\n",
    "\n",
    "latest_date = data_df_processed_full['date_order'].max() + pd.Timedelta(days=1)\n",
    "rfm_table = data_df_processed_full.groupby('client_id').agg({\n",
    "    'date_order': lambda x: (latest_date - x.max()).days,\n",
    "    'client_id': 'count',\n",
    "    'sales_net': 'sum'\n",
    "}).rename(columns={'date_order': 'Recency', 'client_id': 'Frequency', 'sales_net': 'MonetaryValue'})\n",
    "\n",
    "# RFM Score Calculation\n",
    "rfm_table['R_Score'] = pd.qcut(rfm_table['Recency'], 4, ['1','2','3','4'])\n",
    "rfm_table['F_Score'] = pd.qcut(rfm_table['Frequency'].rank(method='first'), 4, ['4','3','2','1'])\n",
    "rfm_table['M_Score'] = pd.qcut(rfm_table['MonetaryValue'], 4, ['4','3','2','1'])\n",
    "\n",
    "# Combine RFM scores\n",
    "rfm_table['RFM_Segment'] = rfm_table['R_Score'].astype(str) + rfm_table['F_Score'].astype(str) + rfm_table['M_Score'].astype(str)\n",
    "rfm_table['RFM_Score'] = rfm_table[['R_Score', 'F_Score', 'M_Score']].sum(axis=1)\n",
    "\n",
    "rfm_table.head()\n"
   ]
  },
  {
   "cell_type": "markdown",
   "id": "77cf95d6-b51c-4de7-9150-9b4bb67ab6ba",
   "metadata": {},
   "source": [
    "# Time Series Analysis"
   ]
  },
  {
   "cell_type": "code",
   "execution_count": null,
   "id": "92957402-c4b1-4b15-9c95-da0e90232559",
   "metadata": {},
   "outputs": [],
   "source": [
    "from statsmodels.tsa.seasonal import seasonal_decompose\n",
    "\n",
    "time_series_data = data_df_processed_full.groupby('date_order')['sales_net'].sum()\n",
    "result = seasonal_decompose(time_series_data, model='additive', period=1)  # You might need to adjust the period based on your data's seasonality\n",
    "\n",
    "# Plot the decomposed components of the time series\n",
    "result.plot()\n",
    "plt.show()\n"
   ]
  },
  {
   "cell_type": "markdown",
   "id": "813eec8f-8245-4517-bd65-f970ff2cda23",
   "metadata": {},
   "source": [
    "# Top Product Volume Analysis"
   ]
  },
  {
   "cell_type": "code",
   "execution_count": null,
   "id": "0d9c25ff-8685-4674-8dcc-f4f6a2cd6c0d",
   "metadata": {},
   "outputs": [],
   "source": [
    "product_performance = data_df_processed_full.groupby('product_id').agg({\n",
    "    'quantity': 'sum', \n",
    "    'sales_net': 'sum'  \n",
    "}).sort_values(by='quantity', ascending=False)\n",
    "\n",
    "product_performance['quantity'].head(10).plot(kind='bar')\n",
    "plt.title('Top 10 Products by Quantity Sold')\n",
    "plt.xlabel('Product ID')\n",
    "plt.ylabel('Quantity Sold')\n",
    "plt.show()\n"
   ]
  },
  {
   "cell_type": "markdown",
   "id": "91d149ac-bc21-4796-968f-2dfd44dc0b78",
   "metadata": {},
   "source": [
    "# Top Product Revenue Analysis"
   ]
  },
  {
   "cell_type": "code",
   "execution_count": null,
   "id": "0ccab9cf-d381-4137-9cb8-389d8ddaa538",
   "metadata": {},
   "outputs": [],
   "source": [
    "profitability_analysis = data_df_processed_full.groupby('product_id').agg({\n",
    "    'sales_net': 'sum'\n",
    "}).sort_values(by='sales_net', ascending=False)\n",
    "\n",
    "profitability_analysis['sales_net'].head(10).plot(kind='bar', color='green')\n",
    "plt.title('Top 10 Profitable Products')\n",
    "plt.xlabel('Product ID')\n",
    "plt.ylabel('Sales')\n",
    "plt.show()\n"
   ]
  },
  {
   "cell_type": "markdown",
   "id": "8d41b9b6-5e27-4a52-a185-028b12011525",
   "metadata": {},
   "source": [
    "# Customer Lifetime Value Prediction Model"
   ]
  },
  {
   "cell_type": "code",
   "execution_count": null,
   "id": "38ff8a9f-90bd-46d6-a8a3-fb88319be765",
   "metadata": {},
   "outputs": [],
   "source": [
    "ltv_per_customer = data_df_processed_full.groupby('client_id')['LTV'].mean().reset_index()\n",
    "rfm_table_with_ltv = pd.merge(rfm_table, ltv_per_customer, on='client_id', how='left')\n",
    "\n",
    "X = rfm_table_with_ltv[['Recency', 'Frequency', 'MonetaryValue']]\n",
    "y = rfm_table_with_ltv['LTV']\n",
    "X_train, X_test, y_train, y_test = train_test_split(X, y, test_size=0.2, random_state=0)\n",
    "model = LinearRegression()\n",
    "\n",
    "model.fit(X_train, y_train)\n",
    "predicted_LTV = model.predict(X_test)\n"
   ]
  },
  {
   "cell_type": "code",
   "execution_count": null,
   "id": "c68a0fd4-33bb-4abc-b7fb-5221458d92f5",
   "metadata": {},
   "outputs": [],
   "source": [
    "r2 = r2_score(y_test, predicted_LTV)\n",
    "mae = mean_absolute_error(y_test, predicted_LTV)\n",
    "mse = mean_squared_error(y_test, predicted_LTV)\n",
    "rmse = np.sqrt(mse)\n",
    "\n",
    "print(f'R-squared: {r2}')\n",
    "print(f'Mean Absolute Error: {mae}')\n",
    "print(f'Mean Squared Error: {mse}')\n",
    "print(f'Root Mean Squared Error: {rmse}')"
   ]
  },
  {
   "cell_type": "code",
   "execution_count": null,
   "id": "56c11a91-1bfa-40af-8c59-8a69bfed9e94",
   "metadata": {},
   "outputs": [],
   "source": [
    "# Actual vs predicted values\n",
    "plt.scatter(y_test, predicted_LTV)\n",
    "plt.xlabel('Actual LTV')\n",
    "plt.ylabel('Predicted LTV')\n",
    "plt.title('Actual vs. Predicted LTV')\n",
    "plt.show()\n",
    "\n",
    "# Residuals\n",
    "residuals = y_test - predicted_LTV\n",
    "plt.scatter(y_test, residuals)\n",
    "plt.xlabel('Actual LTV')\n",
    "plt.ylabel('Residuals')\n",
    "plt.title('Actual LTV vs. Residuals')\n",
    "plt.axhline(y=0, color='red', linestyle='--')\n",
    "plt.show()\n"
   ]
  },
  {
   "cell_type": "markdown",
   "id": "687ef9e3-3799-4373-abbb-b457ca4fe8f0",
   "metadata": {},
   "source": [
    "# Outlier Detection"
   ]
  },
  {
   "cell_type": "code",
   "execution_count": null,
   "id": "43f39c3a-5858-4b7e-8a8c-df208c0a2aff",
   "metadata": {},
   "outputs": [],
   "source": [
    "data_df_processed_full['z_scores'] = stats.zscore(data_df_processed_full['sales_net'])\n",
    "threshold = 3\n",
    "\n",
    "data_df_processed_full['outlier'] = data_df_processed_full['z_scores'].apply(lambda x: x > threshold or x < -threshold)\n",
    "\n",
    "# Plot of Sales Outliers\n",
    "plt.figure(figsize=(10, 6))\n",
    "sns.scatterplot(data=data_df_processed_full, x=data_df_processed_full.index, y='sales_net', hue='outlier', style='outlier', palette=['blue', 'red'])\n",
    "plt.title('Outliers in Sales Net')\n",
    "plt.xlabel('Index')\n",
    "plt.ylabel('Sales Net')\n",
    "plt.legend(title='Outlier')\n",
    "plt.show()\n"
   ]
  },
  {
   "cell_type": "markdown",
   "id": "4977f951-ea0a-4672-bf13-bb61bd1813cd",
   "metadata": {},
   "source": [
    "# Basic Churn Prediction Model"
   ]
  },
  {
   "cell_type": "code",
   "execution_count": null,
   "id": "23033283-eda0-46c2-b711-6c33e910e091",
   "metadata": {},
   "outputs": [],
   "source": [
    "rfm_table['churned'] = rfm_table['Recency'] > 90  # True if churned, False if not\n",
    "\n",
    "X = rfm_table[['Recency', 'Frequency', 'MonetaryValue']]\n",
    "y = rfm_table['churned'].astype(int)  # Converting boolean\n",
    "X_train, X_test, y_train, y_test = train_test_split(X, y, test_size=0.2, random_state=0)\n",
    "\n",
    "\n",
    "model = RandomForestClassifier(random_state=0)\n",
    "model.fit(X_train, y_train)\n",
    "predicted_churn = model.predict(X_test)\n",
    "\n",
    "print(\"Accuracy:\", accuracy_score(y_test, predicted_churn))\n",
    "print(classification_report(y_test, predicted_churn))\n"
   ]
  },
  {
   "cell_type": "code",
   "execution_count": null,
   "id": "2b8fb8a6-7958-4dea-a497-4574b9b7639d",
   "metadata": {},
   "outputs": [],
   "source": [
    "order_channels = [col for col in data_df_processed_full.columns if 'order_channel_' in col]\n",
    "melted_df = data_df_processed_full.melt(id_vars=['branch_id', 'client_id'], value_vars=order_channels, var_name='order_channel', value_name='order_flag')\n",
    "melted_df = melted_df[melted_df['order_flag'] > 0]\n",
    "orders_per_branch_channel = melted_df.groupby(['branch_id', 'order_channel'])['client_id'].count().reset_index(name='number_of_orders')\n",
    "pivot_table = orders_per_branch_channel.pivot_table(index='branch_id', columns='order_channel', values='number_of_orders', fill_value=0)\n",
    "\n",
    "pivot_table"
   ]
  },
  {
   "cell_type": "code",
   "execution_count": null,
   "id": "d1d458f3-c7ac-4727-80e8-9bc2b5ba05c5",
   "metadata": {},
   "outputs": [],
   "source": [
    "pivot_table.to_csv('orders_per_branch_channel.csv')"
   ]
  },
  {
   "cell_type": "code",
   "execution_count": null,
   "id": "df34205c-d22b-4e7f-87b6-8cee58c0c8e5",
   "metadata": {},
   "outputs": [],
   "source": [
    "# Branches with only one channel\n",
    "branch_channel_sums = pivot_table.sum(axis=1)\n",
    "single_channel_branches = branch_channel_sums[branch_channel_sums == 1]\n",
    "\n",
    "single_channel_branches"
   ]
  },
  {
   "cell_type": "code",
   "execution_count": null,
   "id": "2c004a1c-0eb4-40f3-8045-8e13a2f515fd",
   "metadata": {},
   "outputs": [],
   "source": [
    "order_channels = [col for col in data_df_processed_full.columns if 'order_channel_' in col]\n",
    "\n",
    "for channel in order_channels:\n",
    "    data_df_processed_full[channel + '_sales'] = data_df_processed_full[channel] * data_df_processed_full['sales_net']\n",
    "\n",
    "sales_columns = [col for col in data_df_processed_full.columns if '_sales' in col]\n",
    "sales_per_branch_channel = data_df_processed_full.groupby('branch_id')[sales_columns].sum().reset_index()\n",
    "\n",
    "sales_per_branch_channel"
   ]
  },
  {
   "cell_type": "code",
   "execution_count": null,
   "id": "a3eef7f8-fc67-45d2-b4d4-ffec5557ad7c",
   "metadata": {},
   "outputs": [],
   "source": [
    "sales_per_branch_channel.to_csv('sales_per_branch_channel.csv')"
   ]
  },
  {
   "cell_type": "code",
   "execution_count": null,
   "id": "6e287a98-0223-46d8-a435-51bb54c716ef",
   "metadata": {},
   "outputs": [],
   "source": [
    "# Highest income channel for each branch\n",
    "sales_per_branch_channel['highest_income_channel'] = sales_per_branch_channel[sales_columns].idxmax(axis=1)\n",
    "sales_per_branch_channel['highest_income'] = sales_per_branch_channel[sales_columns].max(axis=1)\n",
    "\n",
    "sales_per_branch_channel[['branch_id', 'highest_income_channel', 'highest_income']]\n"
   ]
  },
  {
   "cell_type": "code",
   "execution_count": null,
   "id": "ffb97e7b-7cf3-41be-baf9-59ec4f997300",
   "metadata": {},
   "outputs": [],
   "source": [
    "refunds = data_df_processed_full[data_df_processed_full['sales_net'] < 0]"
   ]
  },
  {
   "cell_type": "code",
   "execution_count": null,
   "id": "f490f913-f77d-414f-b9ca-f1b1e5d49ca4",
   "metadata": {},
   "outputs": [],
   "source": [
    "purchases = pd.read_csv('purchases.csv') "
   ]
  },
  {
   "cell_type": "code",
   "execution_count": null,
   "id": "9c51508d-1530-4526-900f-ef874b7ece2c",
   "metadata": {},
   "outputs": [],
   "source": [
    "data_df_processed_full['date_order'] = pd.to_datetime(data_df_processed_full['date_order'])\n",
    "latest_purchase_by_customer = data_df_processed_full.groupby('client_id')['date_order'].max().reset_index()\n",
    "latest_purchase_by_customer.rename(columns={'date_order': 'latest_purchase_date'}, inplace=True)\n"
   ]
  },
  {
   "cell_type": "code",
   "execution_count": null,
   "id": "85882dcd-a9a7-46ce-84b4-3435bb68d656",
   "metadata": {},
   "outputs": [],
   "source": [
    "most_recent_date = data_df_processed_full['date_order'].max()\n",
    "churn_threshold_date = most_recent_date - pd.Timedelta(days=90)"
   ]
  },
  {
   "cell_type": "code",
   "execution_count": null,
   "id": "dbdba8b3-d1ca-4448-ac5b-19c4e07fd047",
   "metadata": {},
   "outputs": [],
   "source": [
    "latest_purchase_by_customer['churned'] = latest_purchase_by_customer['latest_purchase_date'].apply(lambda x: 1 if x < churn_threshold_date else 0)"
   ]
  },
  {
   "cell_type": "code",
   "execution_count": null,
   "id": "3e25c128-1ee7-4998-8091-4d92a48f6f72",
   "metadata": {},
   "outputs": [],
   "source": [
    "latest_purchase_by_customer.head()"
   ]
  },
  {
   "cell_type": "markdown",
   "id": "b416fad1-d3b3-406c-9db3-c52adc6272e7",
   "metadata": {},
   "source": [
    "# Churning Products Analysis"
   ]
  },
  {
   "cell_type": "code",
   "execution_count": null,
   "id": "ad8bf4ae-4cff-4ea8-af76-103868912138",
   "metadata": {},
   "outputs": [],
   "source": [
    "latest_purchase_by_customer.to_csv('latest_purchase_by_customer.csv')"
   ]
  },
  {
   "cell_type": "code",
   "execution_count": null,
   "id": "1514f184-4b17-4d36-9440-d4912dd1ffc7",
   "metadata": {},
   "outputs": [],
   "source": [
    "purchases.head()"
   ]
  },
  {
   "cell_type": "code",
   "execution_count": null,
   "id": "1cf73bb2-eef9-4e45-99af-f0f26e694069",
   "metadata": {},
   "outputs": [],
   "source": [
    "# Identify product_ids associated with refunds.\n",
    "refunded_products = refunds[['client_id', 'product_id']].drop_duplicates()\n",
    "\n",
    "# Checking for those product_ids in the purchases data.\n",
    "purchased_and_refunded = purchases.merge(refunded_products, on=['client_id', 'product_id'], how='inner')\n",
    "\n",
    "# Marking these customers in your latest_purchase_by_customer DataFrame.\n",
    "latest_purchase_by_customer['purchased_and_refunded'] = latest_purchase_by_customer['client_id'].isin(purchased_and_refunded['client_id']).astype(int)\n",
    "\n",
    "# Checking for churn among these customers.\n",
    "mask = latest_purchase_by_customer['purchased_and_refunded'] == 1\n",
    "\n",
    "# Calculating the rate of churn\n",
    "churn_rate = latest_purchase_by_customer.loc[mask, 'churned'].mean()\n",
    "\n",
    "print(f\"Churn rate among customers who purchased and refunded: {churn_rate:.2%}\")\n"
   ]
  },
  {
   "cell_type": "code",
   "execution_count": null,
   "id": "47e50395-f28f-48ac-919e-5bdbbebc9b96",
   "metadata": {},
   "outputs": [],
   "source": [
    "purchased_and_refunded_with_churn = purchased_and_refunded.merge(\n",
    "    latest_purchase_by_customer[['client_id', 'churned']],\n",
    "    on='client_id',\n",
    "    how='left'\n",
    ")\n",
    "\n",
    "churned_transactions = purchased_and_refunded_with_churn[purchased_and_refunded_with_churn['churned'] == 1]\n",
    "churned_product_counts = churned_transactions['product_id'].value_counts().reset_index()\n",
    "churned_product_counts.columns = ['product_id', 'churned_count']\n",
    "\n",
    "# Products with highest churn\n",
    "print(churned_product_counts)\n"
   ]
  },
  {
   "cell_type": "code",
   "execution_count": null,
   "id": "1b2fc96d-11d7-4b30-a0c2-e2c4880cdc11",
   "metadata": {},
   "outputs": [],
   "source": [
    "top_n = 10\n",
    "top_churned_products = churned_product_counts.head(top_n)\n",
    "plt.figure(figsize=(12, 8))  # You can adjust the size as needed\n",
    "sns.barplot(\n",
    "    data=top_churned_products,\n",
    "    x='product_id',\n",
    "    y='churned_count',\n",
    "    palette='viridis'\n",
    ")\n",
    "\n",
    "plt.title('Top Products Leading to Customer Churn After a Refund')\n",
    "plt.xlabel('Product ID')\n",
    "plt.ylabel('Number of Churned Customers')\n",
    "plt.xticks(rotation=45)  # Rotate the x labels to fit longer product ids if necessary\n",
    "\n",
    "# Product that yield to customer churn\n",
    "plt.show()\n"
   ]
  },
  {
   "cell_type": "code",
   "execution_count": null,
   "id": "89055f26-0a09-4887-a0ea-643400312551",
   "metadata": {},
   "outputs": [],
   "source": [
    "top_churned_product_ids = churned_product_counts['product_id'].head(top_n).tolist()\n",
    "top_products_sales_data = data_df_processed_full[\n",
    "    data_df_processed_full['product_id'].isin(top_churned_product_ids)\n",
    "].copy()\n",
    "\n",
    "top_products_sales_data['year'] = top_products_sales_data['date_order'].dt.year\n",
    "yearly_sales = top_products_sales_data.groupby(['year', 'product_id'])['sales_net'].sum().reset_index()\n",
    "\n",
    "plt.figure(figsize=(14, 7))\n",
    "sns.lineplot(data=yearly_sales, x='year', y='sales_net', hue='product_id', marker='o')\n",
    "\n",
    "plt.title('Yearly Sales Trend of Top Products Leading to Customer Churn')\n",
    "plt.xlabel('Year')\n",
    "plt.ylabel('Total Sales Net')\n",
    "plt.legend(title='Product ID')\n",
    "plt.xticks(yearly_sales['year'].unique())  # Show all years in the dataset\n",
    "\n",
    "# Churning products purchasing trends\n",
    "plt.show()\n"
   ]
  },
  {
   "cell_type": "markdown",
   "id": "ba453644-7289-4e95-ac87-7c8626be31a8",
   "metadata": {},
   "source": [
    "# Branch sales and Channel Analysis"
   ]
  },
  {
   "cell_type": "code",
   "execution_count": null,
   "id": "f533cf23-679b-4268-b2ea-a54b90221b4c",
   "metadata": {},
   "outputs": [],
   "source": [
    "sales_by_branch_channel = data_df_processed_full.groupby('branch_id').agg({\n",
    "    'order_channel_at the store': 'sum',\n",
    "    'order_channel_by phone': 'sum',\n",
    "    'order_channel_online': 'sum',\n",
    "    'order_channel_during the visit of a sales rep': 'sum',\n",
    "    'order_channel_other': 'sum',\n",
    "}).reset_index()\n",
    "\n",
    "sales_by_branch_channel['total_sales'] = sales_by_branch_channel.sum(axis=1)\n",
    "sales_by_branch_channel['online_phone_sales'] = sales_by_branch_channel[['order_channel_by phone', 'order_channel_online']].sum(axis=1)\n",
    "sales_by_branch_channel['online_phone_proportion'] = sales_by_branch_channel['online_phone_sales'] / sales_by_branch_channel['total_sales']\n",
    "\n",
    "threshold = 0.8\n",
    "branches_high_reliance_online_phone = sales_by_branch_channel[sales_by_branch_channel['online_phone_proportion'] >= threshold]\n",
    "\n",
    "print(branches_high_reliance_online_phone[['branch_id', 'online_phone_proportion']])\n"
   ]
  },
  {
   "cell_type": "code",
   "execution_count": null,
   "id": "8137064a-278f-499b-9e2f-95b97d053287",
   "metadata": {},
   "outputs": [],
   "source": [
    "branches_high_reliance_online_phone.to_csv('branches_high_reliance_online_phone.csv')"
   ]
  },
  {
   "cell_type": "code",
   "execution_count": null,
   "id": "4858f740-54a6-43bb-ad4d-2cfe21d729f8",
   "metadata": {},
   "outputs": [],
   "source": [
    "sns.set_style(\"whitegrid\")\n",
    "\n",
    "plot_data = branches_high_reliance_online_phone.set_index('branch_id')[['order_channel_by phone', 'order_channel_online']]\n",
    "plot_data['other_channels'] = 1 - plot_data.sum(axis=1)  # Calculate the proportion of other channels\n",
    "\n",
    "plot_data.sort_values('other_channels').plot(\n",
    "    kind='barh', \n",
    "    stacked=True, \n",
    "    figsize=(10, 7), \n",
    "    colormap='coolwarm'\n",
    ")\n",
    "\n",
    "plt.title('Proportion of Sales by Channel for Each Branch')\n",
    "plt.xlabel('Proportion of Sales')\n",
    "plt.ylabel('Branch ID')\n",
    "plt.legend(title='Sales Channel', loc='center left', bbox_to_anchor=(1, 0.5))\n",
    "\n",
    "# Branch sales by channel distribution\n",
    "plt.tight_layout()\n",
    "plt.show()\n"
   ]
  },
  {
   "cell_type": "code",
   "execution_count": null,
   "id": "9e24932a-b4fc-40b6-bc06-9508409d280e",
   "metadata": {},
   "outputs": [],
   "source": []
  }
 ],
 "metadata": {
  "kernelspec": {
   "display_name": "Python 3 (ipykernel)",
   "language": "python",
   "name": "python3"
  },
  "language_info": {
   "codemirror_mode": {
    "name": "ipython",
    "version": 3
   },
   "file_extension": ".py",
   "mimetype": "text/x-python",
   "name": "python",
   "nbconvert_exporter": "python",
   "pygments_lexer": "ipython3",
   "version": "3.10.9"
  }
 },
 "nbformat": 4,
 "nbformat_minor": 5
}
